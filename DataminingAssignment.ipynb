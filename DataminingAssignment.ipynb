{
  "nbformat": 4,
  "nbformat_minor": 0,
  "metadata": {
    "colab": {
      "provenance": [],
      "authorship_tag": "ABX9TyM50i1kQnYPVlXq7LI0Uc4a",
      "include_colab_link": true
    },
    "kernelspec": {
      "name": "python3",
      "display_name": "Python 3"
    },
    "language_info": {
      "name": "python"
    }
  },
  "cells": [
    {
      "cell_type": "markdown",
      "metadata": {
        "id": "view-in-github",
        "colab_type": "text"
      },
      "source": [
        "<a href=\"https://colab.research.google.com/github/Yakunat/R-u-ready/blob/main/DataminingAssignment.ipynb\" target=\"_parent\"><img src=\"https://colab.research.google.com/assets/colab-badge.svg\" alt=\"Open In Colab\"/></a>"
      ]
    },
    {
      "cell_type": "code",
      "execution_count": 1,
      "metadata": {
        "id": "4YCn3tD_tq9j",
        "colab": {
          "base_uri": "https://localhost:8080/",
          "height": 36
        },
        "outputId": "528ddb4b-5354-4229-9885-885cbe14d204"
      },
      "outputs": [
        {
          "output_type": "execute_result",
          "data": {
            "text/plain": [
              "'\\nCreated on Tue Mar  7 15:52:09 2023\\n\\n@author: yakunat\\n'"
            ],
            "application/vnd.google.colaboratory.intrinsic+json": {
              "type": "string"
            }
          },
          "metadata": {},
          "execution_count": 1
        }
      ],
      "source": [
        "# -*- coding: utf-8 -*-\n",
        "\"\"\"\n",
        "Created on Tue Mar  7 15:52:09 2023\n",
        "\n",
        "@author: yakunat\n",
        "\"\"\"\n",
        "\n",
        "# -*- coding: utf-8 -*-\n",
        "\n"
      ]
    },
    {
      "cell_type": "markdown",
      "source": [
        "# Assessment 1: Life Insurance Data"
      ],
      "metadata": {
        "id": "xNYe912AlMAA"
      }
    },
    {
      "cell_type": "markdown",
      "source": [
        "First, we import the necessary libraries and the dataset."
      ],
      "metadata": {
        "id": "ylZwMHLolhFy"
      }
    },
    {
      "cell_type": "code",
      "source": [
        "# Import Libraries and Dataset\n",
        "\n",
        "import pandas as pd\n",
        "import numpy as np\n",
        "import matplotlib.pyplot as pp\n",
        "from scipy import stats\n",
        "import seaborn as sns\n",
        "from sklearn.model_selection import train_test_split\n",
        "from sklearn.linear_model import LogisticRegression\n",
        "from sklearn.discriminant_analysis import LinearDiscriminantAnalysis\n",
        "from sklearn.naive_bayes import GaussianNB\n",
        "from sklearn.svm import SVC\n",
        "from sklearn.tree import DecisionTreeClassifier\n",
        "from sklearn.neighbors import KNeighborsClassifier\n",
        "from sklearn.model_selection import KFold\n",
        "from sklearn.model_selection import cross_val_score\n",
        "from sklearn.pipeline import Pipeline\n",
        "from sklearn.preprocessing import StandardScaler\n",
        "from sklearn.model_selection import GridSearchCV\n",
        "from sklearn.metrics import confusion_matrix\n",
        "from sklearn.metrics import classification_report\n",
        "from sklearn.metrics import accuracy_score\n",
        "\n",
        "\n",
        "\n",
        "data = pd.read_csv(\"sales_data.csv\") \n",
        "data = pd.DataFrame(data)"
      ],
      "metadata": {
        "id": "FqXPl76cuLpC"
      },
      "execution_count": 2,
      "outputs": []
    },
    {
      "cell_type": "markdown",
      "source": [
        "## Data Exploration\n",
        "\n",
        "*   Noticed that the column titles are lower case, switched to title case\n",
        "*   Viewing data types and a glimpse of the data\n",
        "\n"
      ],
      "metadata": {
        "id": "qEhWOH8plrbj"
      }
    },
    {
      "cell_type": "code",
      "source": [
        "# Data Exploration\n",
        "data.head()\n"
      ],
      "metadata": {
        "id": "XW7Y7n1iuXLp",
        "colab": {
          "base_uri": "https://localhost:8080/",
          "height": 0
        },
        "outputId": "43a26ca1-76bb-42ad-a0b8-a11663e2d16b"
      },
      "execution_count": 3,
      "outputs": [
        {
          "output_type": "execute_result",
          "data": {
            "text/plain": [
              "  flag gender        education  house_val     age online marriage child  \\\n",
              "0    Y      M          4. Grad     756460   1_Unk      N      NaN     U   \n",
              "1    N      F          3. Bach     213171   7_>65      N      NaN     U   \n",
              "2    N      M  2. Some College     111147  2_<=25      Y      NaN     Y   \n",
              "3    Y      M  2. Some College     354151  2_<=25      Y   Single     U   \n",
              "4    Y      F  2. Some College     117087   1_Unk      Y  Married     Y   \n",
              "\n",
              "      occupation mortgage house_owner     region fam_income  \n",
              "0   Professional     1Low         NaN    Midwest          L  \n",
              "1   Professional     1Low       Owner  Northeast          G  \n",
              "2   Professional     1Low       Owner    Midwest          J  \n",
              "3  Sales/Service     1Low         NaN       West          L  \n",
              "4  Sales/Service     1Low         NaN      South          H  "
            ],
            "text/html": [
              "\n",
              "  <div id=\"df-fd4f0703-2f98-4ff6-a2ec-7d28bef9742e\">\n",
              "    <div class=\"colab-df-container\">\n",
              "      <div>\n",
              "<style scoped>\n",
              "    .dataframe tbody tr th:only-of-type {\n",
              "        vertical-align: middle;\n",
              "    }\n",
              "\n",
              "    .dataframe tbody tr th {\n",
              "        vertical-align: top;\n",
              "    }\n",
              "\n",
              "    .dataframe thead th {\n",
              "        text-align: right;\n",
              "    }\n",
              "</style>\n",
              "<table border=\"1\" class=\"dataframe\">\n",
              "  <thead>\n",
              "    <tr style=\"text-align: right;\">\n",
              "      <th></th>\n",
              "      <th>flag</th>\n",
              "      <th>gender</th>\n",
              "      <th>education</th>\n",
              "      <th>house_val</th>\n",
              "      <th>age</th>\n",
              "      <th>online</th>\n",
              "      <th>marriage</th>\n",
              "      <th>child</th>\n",
              "      <th>occupation</th>\n",
              "      <th>mortgage</th>\n",
              "      <th>house_owner</th>\n",
              "      <th>region</th>\n",
              "      <th>fam_income</th>\n",
              "    </tr>\n",
              "  </thead>\n",
              "  <tbody>\n",
              "    <tr>\n",
              "      <th>0</th>\n",
              "      <td>Y</td>\n",
              "      <td>M</td>\n",
              "      <td>4. Grad</td>\n",
              "      <td>756460</td>\n",
              "      <td>1_Unk</td>\n",
              "      <td>N</td>\n",
              "      <td>NaN</td>\n",
              "      <td>U</td>\n",
              "      <td>Professional</td>\n",
              "      <td>1Low</td>\n",
              "      <td>NaN</td>\n",
              "      <td>Midwest</td>\n",
              "      <td>L</td>\n",
              "    </tr>\n",
              "    <tr>\n",
              "      <th>1</th>\n",
              "      <td>N</td>\n",
              "      <td>F</td>\n",
              "      <td>3. Bach</td>\n",
              "      <td>213171</td>\n",
              "      <td>7_&gt;65</td>\n",
              "      <td>N</td>\n",
              "      <td>NaN</td>\n",
              "      <td>U</td>\n",
              "      <td>Professional</td>\n",
              "      <td>1Low</td>\n",
              "      <td>Owner</td>\n",
              "      <td>Northeast</td>\n",
              "      <td>G</td>\n",
              "    </tr>\n",
              "    <tr>\n",
              "      <th>2</th>\n",
              "      <td>N</td>\n",
              "      <td>M</td>\n",
              "      <td>2. Some College</td>\n",
              "      <td>111147</td>\n",
              "      <td>2_&lt;=25</td>\n",
              "      <td>Y</td>\n",
              "      <td>NaN</td>\n",
              "      <td>Y</td>\n",
              "      <td>Professional</td>\n",
              "      <td>1Low</td>\n",
              "      <td>Owner</td>\n",
              "      <td>Midwest</td>\n",
              "      <td>J</td>\n",
              "    </tr>\n",
              "    <tr>\n",
              "      <th>3</th>\n",
              "      <td>Y</td>\n",
              "      <td>M</td>\n",
              "      <td>2. Some College</td>\n",
              "      <td>354151</td>\n",
              "      <td>2_&lt;=25</td>\n",
              "      <td>Y</td>\n",
              "      <td>Single</td>\n",
              "      <td>U</td>\n",
              "      <td>Sales/Service</td>\n",
              "      <td>1Low</td>\n",
              "      <td>NaN</td>\n",
              "      <td>West</td>\n",
              "      <td>L</td>\n",
              "    </tr>\n",
              "    <tr>\n",
              "      <th>4</th>\n",
              "      <td>Y</td>\n",
              "      <td>F</td>\n",
              "      <td>2. Some College</td>\n",
              "      <td>117087</td>\n",
              "      <td>1_Unk</td>\n",
              "      <td>Y</td>\n",
              "      <td>Married</td>\n",
              "      <td>Y</td>\n",
              "      <td>Sales/Service</td>\n",
              "      <td>1Low</td>\n",
              "      <td>NaN</td>\n",
              "      <td>South</td>\n",
              "      <td>H</td>\n",
              "    </tr>\n",
              "  </tbody>\n",
              "</table>\n",
              "</div>\n",
              "      <button class=\"colab-df-convert\" onclick=\"convertToInteractive('df-fd4f0703-2f98-4ff6-a2ec-7d28bef9742e')\"\n",
              "              title=\"Convert this dataframe to an interactive table.\"\n",
              "              style=\"display:none;\">\n",
              "        \n",
              "  <svg xmlns=\"http://www.w3.org/2000/svg\" height=\"24px\"viewBox=\"0 0 24 24\"\n",
              "       width=\"24px\">\n",
              "    <path d=\"M0 0h24v24H0V0z\" fill=\"none\"/>\n",
              "    <path d=\"M18.56 5.44l.94 2.06.94-2.06 2.06-.94-2.06-.94-.94-2.06-.94 2.06-2.06.94zm-11 1L8.5 8.5l.94-2.06 2.06-.94-2.06-.94L8.5 2.5l-.94 2.06-2.06.94zm10 10l.94 2.06.94-2.06 2.06-.94-2.06-.94-.94-2.06-.94 2.06-2.06.94z\"/><path d=\"M17.41 7.96l-1.37-1.37c-.4-.4-.92-.59-1.43-.59-.52 0-1.04.2-1.43.59L10.3 9.45l-7.72 7.72c-.78.78-.78 2.05 0 2.83L4 21.41c.39.39.9.59 1.41.59.51 0 1.02-.2 1.41-.59l7.78-7.78 2.81-2.81c.8-.78.8-2.07 0-2.86zM5.41 20L4 18.59l7.72-7.72 1.47 1.35L5.41 20z\"/>\n",
              "  </svg>\n",
              "      </button>\n",
              "      \n",
              "  <style>\n",
              "    .colab-df-container {\n",
              "      display:flex;\n",
              "      flex-wrap:wrap;\n",
              "      gap: 12px;\n",
              "    }\n",
              "\n",
              "    .colab-df-convert {\n",
              "      background-color: #E8F0FE;\n",
              "      border: none;\n",
              "      border-radius: 50%;\n",
              "      cursor: pointer;\n",
              "      display: none;\n",
              "      fill: #1967D2;\n",
              "      height: 32px;\n",
              "      padding: 0 0 0 0;\n",
              "      width: 32px;\n",
              "    }\n",
              "\n",
              "    .colab-df-convert:hover {\n",
              "      background-color: #E2EBFA;\n",
              "      box-shadow: 0px 1px 2px rgba(60, 64, 67, 0.3), 0px 1px 3px 1px rgba(60, 64, 67, 0.15);\n",
              "      fill: #174EA6;\n",
              "    }\n",
              "\n",
              "    [theme=dark] .colab-df-convert {\n",
              "      background-color: #3B4455;\n",
              "      fill: #D2E3FC;\n",
              "    }\n",
              "\n",
              "    [theme=dark] .colab-df-convert:hover {\n",
              "      background-color: #434B5C;\n",
              "      box-shadow: 0px 1px 3px 1px rgba(0, 0, 0, 0.15);\n",
              "      filter: drop-shadow(0px 1px 2px rgba(0, 0, 0, 0.3));\n",
              "      fill: #FFFFFF;\n",
              "    }\n",
              "  </style>\n",
              "\n",
              "      <script>\n",
              "        const buttonEl =\n",
              "          document.querySelector('#df-fd4f0703-2f98-4ff6-a2ec-7d28bef9742e button.colab-df-convert');\n",
              "        buttonEl.style.display =\n",
              "          google.colab.kernel.accessAllowed ? 'block' : 'none';\n",
              "\n",
              "        async function convertToInteractive(key) {\n",
              "          const element = document.querySelector('#df-fd4f0703-2f98-4ff6-a2ec-7d28bef9742e');\n",
              "          const dataTable =\n",
              "            await google.colab.kernel.invokeFunction('convertToInteractive',\n",
              "                                                     [key], {});\n",
              "          if (!dataTable) return;\n",
              "\n",
              "          const docLinkHtml = 'Like what you see? Visit the ' +\n",
              "            '<a target=\"_blank\" href=https://colab.research.google.com/notebooks/data_table.ipynb>data table notebook</a>'\n",
              "            + ' to learn more about interactive tables.';\n",
              "          element.innerHTML = '';\n",
              "          dataTable['output_type'] = 'display_data';\n",
              "          await google.colab.output.renderOutput(dataTable, element);\n",
              "          const docLink = document.createElement('div');\n",
              "          docLink.innerHTML = docLinkHtml;\n",
              "          element.appendChild(docLink);\n",
              "        }\n",
              "      </script>\n",
              "    </div>\n",
              "  </div>\n",
              "  "
            ]
          },
          "metadata": {},
          "execution_count": 3
        }
      ]
    },
    {
      "cell_type": "code",
      "source": [
        "data.columns = data.columns.str.title() #change all column names to Title Case\n",
        "data.dtypes #View data types"
      ],
      "metadata": {
        "id": "KRtDXRfMmhZ1",
        "colab": {
          "base_uri": "https://localhost:8080/"
        },
        "outputId": "4bd9e2d5-7e11-400a-a915-202d2e38c603"
      },
      "execution_count": 4,
      "outputs": [
        {
          "output_type": "execute_result",
          "data": {
            "text/plain": [
              "Flag           object\n",
              "Gender         object\n",
              "Education      object\n",
              "House_Val       int64\n",
              "Age            object\n",
              "Online         object\n",
              "Marriage       object\n",
              "Child          object\n",
              "Occupation     object\n",
              "Mortgage       object\n",
              "House_Owner    object\n",
              "Region         object\n",
              "Fam_Income     object\n",
              "dtype: object"
            ]
          },
          "metadata": {},
          "execution_count": 4
        }
      ]
    },
    {
      "cell_type": "code",
      "source": [
        "#There are 2 data types - object and number, so describe/summarise both below\n",
        "desc_data_object=data.describe(include=['object']) #Describe Object datatype\n",
        "desc_data_object\n"
      ],
      "metadata": {
        "id": "dWv6X8QouguM",
        "colab": {
          "base_uri": "https://localhost:8080/",
          "height": 0
        },
        "outputId": "7a044fb5-3e71-4218-b5ae-989e086a5008"
      },
      "execution_count": 5,
      "outputs": [
        {
          "output_type": "execute_result",
          "data": {
            "text/plain": [
              "         Flag Gender        Education     Age Online Marriage  Child  \\\n",
              "count   40000  40000            39259   40000  40000    25973  40000   \n",
              "unique      2      3                5       7      2        2      4   \n",
              "top         Y      M  2. Some College  5_<=55      Y  Married      Y   \n",
              "freq    20000  22019            11400    8103  27319    20891  18012   \n",
              "\n",
              "          Occupation Mortgage House_Owner Region Fam_Income  \n",
              "count          40000    40000       36623  40000      40000  \n",
              "unique             6        3           2      5         13  \n",
              "top     Professional     1Low       Owner  South          E  \n",
              "freq           14936    29848       29232  15676       8432  "
            ],
            "text/html": [
              "\n",
              "  <div id=\"df-d57561d0-87f0-4b70-a83c-36ed2f979fda\">\n",
              "    <div class=\"colab-df-container\">\n",
              "      <div>\n",
              "<style scoped>\n",
              "    .dataframe tbody tr th:only-of-type {\n",
              "        vertical-align: middle;\n",
              "    }\n",
              "\n",
              "    .dataframe tbody tr th {\n",
              "        vertical-align: top;\n",
              "    }\n",
              "\n",
              "    .dataframe thead th {\n",
              "        text-align: right;\n",
              "    }\n",
              "</style>\n",
              "<table border=\"1\" class=\"dataframe\">\n",
              "  <thead>\n",
              "    <tr style=\"text-align: right;\">\n",
              "      <th></th>\n",
              "      <th>Flag</th>\n",
              "      <th>Gender</th>\n",
              "      <th>Education</th>\n",
              "      <th>Age</th>\n",
              "      <th>Online</th>\n",
              "      <th>Marriage</th>\n",
              "      <th>Child</th>\n",
              "      <th>Occupation</th>\n",
              "      <th>Mortgage</th>\n",
              "      <th>House_Owner</th>\n",
              "      <th>Region</th>\n",
              "      <th>Fam_Income</th>\n",
              "    </tr>\n",
              "  </thead>\n",
              "  <tbody>\n",
              "    <tr>\n",
              "      <th>count</th>\n",
              "      <td>40000</td>\n",
              "      <td>40000</td>\n",
              "      <td>39259</td>\n",
              "      <td>40000</td>\n",
              "      <td>40000</td>\n",
              "      <td>25973</td>\n",
              "      <td>40000</td>\n",
              "      <td>40000</td>\n",
              "      <td>40000</td>\n",
              "      <td>36623</td>\n",
              "      <td>40000</td>\n",
              "      <td>40000</td>\n",
              "    </tr>\n",
              "    <tr>\n",
              "      <th>unique</th>\n",
              "      <td>2</td>\n",
              "      <td>3</td>\n",
              "      <td>5</td>\n",
              "      <td>7</td>\n",
              "      <td>2</td>\n",
              "      <td>2</td>\n",
              "      <td>4</td>\n",
              "      <td>6</td>\n",
              "      <td>3</td>\n",
              "      <td>2</td>\n",
              "      <td>5</td>\n",
              "      <td>13</td>\n",
              "    </tr>\n",
              "    <tr>\n",
              "      <th>top</th>\n",
              "      <td>Y</td>\n",
              "      <td>M</td>\n",
              "      <td>2. Some College</td>\n",
              "      <td>5_&lt;=55</td>\n",
              "      <td>Y</td>\n",
              "      <td>Married</td>\n",
              "      <td>Y</td>\n",
              "      <td>Professional</td>\n",
              "      <td>1Low</td>\n",
              "      <td>Owner</td>\n",
              "      <td>South</td>\n",
              "      <td>E</td>\n",
              "    </tr>\n",
              "    <tr>\n",
              "      <th>freq</th>\n",
              "      <td>20000</td>\n",
              "      <td>22019</td>\n",
              "      <td>11400</td>\n",
              "      <td>8103</td>\n",
              "      <td>27319</td>\n",
              "      <td>20891</td>\n",
              "      <td>18012</td>\n",
              "      <td>14936</td>\n",
              "      <td>29848</td>\n",
              "      <td>29232</td>\n",
              "      <td>15676</td>\n",
              "      <td>8432</td>\n",
              "    </tr>\n",
              "  </tbody>\n",
              "</table>\n",
              "</div>\n",
              "      <button class=\"colab-df-convert\" onclick=\"convertToInteractive('df-d57561d0-87f0-4b70-a83c-36ed2f979fda')\"\n",
              "              title=\"Convert this dataframe to an interactive table.\"\n",
              "              style=\"display:none;\">\n",
              "        \n",
              "  <svg xmlns=\"http://www.w3.org/2000/svg\" height=\"24px\"viewBox=\"0 0 24 24\"\n",
              "       width=\"24px\">\n",
              "    <path d=\"M0 0h24v24H0V0z\" fill=\"none\"/>\n",
              "    <path d=\"M18.56 5.44l.94 2.06.94-2.06 2.06-.94-2.06-.94-.94-2.06-.94 2.06-2.06.94zm-11 1L8.5 8.5l.94-2.06 2.06-.94-2.06-.94L8.5 2.5l-.94 2.06-2.06.94zm10 10l.94 2.06.94-2.06 2.06-.94-2.06-.94-.94-2.06-.94 2.06-2.06.94z\"/><path d=\"M17.41 7.96l-1.37-1.37c-.4-.4-.92-.59-1.43-.59-.52 0-1.04.2-1.43.59L10.3 9.45l-7.72 7.72c-.78.78-.78 2.05 0 2.83L4 21.41c.39.39.9.59 1.41.59.51 0 1.02-.2 1.41-.59l7.78-7.78 2.81-2.81c.8-.78.8-2.07 0-2.86zM5.41 20L4 18.59l7.72-7.72 1.47 1.35L5.41 20z\"/>\n",
              "  </svg>\n",
              "      </button>\n",
              "      \n",
              "  <style>\n",
              "    .colab-df-container {\n",
              "      display:flex;\n",
              "      flex-wrap:wrap;\n",
              "      gap: 12px;\n",
              "    }\n",
              "\n",
              "    .colab-df-convert {\n",
              "      background-color: #E8F0FE;\n",
              "      border: none;\n",
              "      border-radius: 50%;\n",
              "      cursor: pointer;\n",
              "      display: none;\n",
              "      fill: #1967D2;\n",
              "      height: 32px;\n",
              "      padding: 0 0 0 0;\n",
              "      width: 32px;\n",
              "    }\n",
              "\n",
              "    .colab-df-convert:hover {\n",
              "      background-color: #E2EBFA;\n",
              "      box-shadow: 0px 1px 2px rgba(60, 64, 67, 0.3), 0px 1px 3px 1px rgba(60, 64, 67, 0.15);\n",
              "      fill: #174EA6;\n",
              "    }\n",
              "\n",
              "    [theme=dark] .colab-df-convert {\n",
              "      background-color: #3B4455;\n",
              "      fill: #D2E3FC;\n",
              "    }\n",
              "\n",
              "    [theme=dark] .colab-df-convert:hover {\n",
              "      background-color: #434B5C;\n",
              "      box-shadow: 0px 1px 3px 1px rgba(0, 0, 0, 0.15);\n",
              "      filter: drop-shadow(0px 1px 2px rgba(0, 0, 0, 0.3));\n",
              "      fill: #FFFFFF;\n",
              "    }\n",
              "  </style>\n",
              "\n",
              "      <script>\n",
              "        const buttonEl =\n",
              "          document.querySelector('#df-d57561d0-87f0-4b70-a83c-36ed2f979fda button.colab-df-convert');\n",
              "        buttonEl.style.display =\n",
              "          google.colab.kernel.accessAllowed ? 'block' : 'none';\n",
              "\n",
              "        async function convertToInteractive(key) {\n",
              "          const element = document.querySelector('#df-d57561d0-87f0-4b70-a83c-36ed2f979fda');\n",
              "          const dataTable =\n",
              "            await google.colab.kernel.invokeFunction('convertToInteractive',\n",
              "                                                     [key], {});\n",
              "          if (!dataTable) return;\n",
              "\n",
              "          const docLinkHtml = 'Like what you see? Visit the ' +\n",
              "            '<a target=\"_blank\" href=https://colab.research.google.com/notebooks/data_table.ipynb>data table notebook</a>'\n",
              "            + ' to learn more about interactive tables.';\n",
              "          element.innerHTML = '';\n",
              "          dataTable['output_type'] = 'display_data';\n",
              "          await google.colab.output.renderOutput(dataTable, element);\n",
              "          const docLink = document.createElement('div');\n",
              "          docLink.innerHTML = docLinkHtml;\n",
              "          element.appendChild(docLink);\n",
              "        }\n",
              "      </script>\n",
              "    </div>\n",
              "  </div>\n",
              "  "
            ]
          },
          "metadata": {},
          "execution_count": 5
        }
      ]
    },
    {
      "cell_type": "markdown",
      "source": [
        "Observations:\n",
        "*  'Education', 'Marriage', and 'House Owner' columns have less than the expected number of entries, so there are rows with NAs in them that need to be addressed.\n",
        "*  The 'Child' column has one more unique entry than expected\n",
        "*  'Education', 'Age', and 'Mortgage' column have a mix of numbers and letters than can be reduced to just numbers\n",
        "*  The output variable 'Flag' is equally distributed and since it is a Yes/No entry, it can be converted to binary. 'Online'can also be converted to binary.\n",
        "*  'Fam_Income', 'Mortgage', 'Age' and 'Education' are categorical variables but they can be ranked so they may be converted to numbers arranged in increasing value\n",
        "\n",
        "*...Now moving on to the one continuous variable = House Value*"
      ],
      "metadata": {
        "id": "cSiUrjpznqAZ"
      }
    },
    {
      "cell_type": "code",
      "source": [
        "desc_data_number=data.describe(include=['number']) #Describe Number datatype\n",
        "desc_data_number"
      ],
      "metadata": {
        "id": "cOOCizgQ2dg6",
        "colab": {
          "base_uri": "https://localhost:8080/",
          "height": 0
        },
        "outputId": "4bd79294-53fb-4e65-b037-03f3a0fc4946"
      },
      "execution_count": 6,
      "outputs": [
        {
          "output_type": "execute_result",
          "data": {
            "text/plain": [
              "          House_Val\n",
              "count  4.000000e+04\n",
              "mean   3.072138e+05\n",
              "std    4.222146e+05\n",
              "min    0.000000e+00\n",
              "25%    8.065725e+04\n",
              "50%    2.148720e+05\n",
              "75%    3.937620e+05\n",
              "max    9.999999e+06"
            ],
            "text/html": [
              "\n",
              "  <div id=\"df-f2703ecd-d88c-4e6b-bf20-355da48d039c\">\n",
              "    <div class=\"colab-df-container\">\n",
              "      <div>\n",
              "<style scoped>\n",
              "    .dataframe tbody tr th:only-of-type {\n",
              "        vertical-align: middle;\n",
              "    }\n",
              "\n",
              "    .dataframe tbody tr th {\n",
              "        vertical-align: top;\n",
              "    }\n",
              "\n",
              "    .dataframe thead th {\n",
              "        text-align: right;\n",
              "    }\n",
              "</style>\n",
              "<table border=\"1\" class=\"dataframe\">\n",
              "  <thead>\n",
              "    <tr style=\"text-align: right;\">\n",
              "      <th></th>\n",
              "      <th>House_Val</th>\n",
              "    </tr>\n",
              "  </thead>\n",
              "  <tbody>\n",
              "    <tr>\n",
              "      <th>count</th>\n",
              "      <td>4.000000e+04</td>\n",
              "    </tr>\n",
              "    <tr>\n",
              "      <th>mean</th>\n",
              "      <td>3.072138e+05</td>\n",
              "    </tr>\n",
              "    <tr>\n",
              "      <th>std</th>\n",
              "      <td>4.222146e+05</td>\n",
              "    </tr>\n",
              "    <tr>\n",
              "      <th>min</th>\n",
              "      <td>0.000000e+00</td>\n",
              "    </tr>\n",
              "    <tr>\n",
              "      <th>25%</th>\n",
              "      <td>8.065725e+04</td>\n",
              "    </tr>\n",
              "    <tr>\n",
              "      <th>50%</th>\n",
              "      <td>2.148720e+05</td>\n",
              "    </tr>\n",
              "    <tr>\n",
              "      <th>75%</th>\n",
              "      <td>3.937620e+05</td>\n",
              "    </tr>\n",
              "    <tr>\n",
              "      <th>max</th>\n",
              "      <td>9.999999e+06</td>\n",
              "    </tr>\n",
              "  </tbody>\n",
              "</table>\n",
              "</div>\n",
              "      <button class=\"colab-df-convert\" onclick=\"convertToInteractive('df-f2703ecd-d88c-4e6b-bf20-355da48d039c')\"\n",
              "              title=\"Convert this dataframe to an interactive table.\"\n",
              "              style=\"display:none;\">\n",
              "        \n",
              "  <svg xmlns=\"http://www.w3.org/2000/svg\" height=\"24px\"viewBox=\"0 0 24 24\"\n",
              "       width=\"24px\">\n",
              "    <path d=\"M0 0h24v24H0V0z\" fill=\"none\"/>\n",
              "    <path d=\"M18.56 5.44l.94 2.06.94-2.06 2.06-.94-2.06-.94-.94-2.06-.94 2.06-2.06.94zm-11 1L8.5 8.5l.94-2.06 2.06-.94-2.06-.94L8.5 2.5l-.94 2.06-2.06.94zm10 10l.94 2.06.94-2.06 2.06-.94-2.06-.94-.94-2.06-.94 2.06-2.06.94z\"/><path d=\"M17.41 7.96l-1.37-1.37c-.4-.4-.92-.59-1.43-.59-.52 0-1.04.2-1.43.59L10.3 9.45l-7.72 7.72c-.78.78-.78 2.05 0 2.83L4 21.41c.39.39.9.59 1.41.59.51 0 1.02-.2 1.41-.59l7.78-7.78 2.81-2.81c.8-.78.8-2.07 0-2.86zM5.41 20L4 18.59l7.72-7.72 1.47 1.35L5.41 20z\"/>\n",
              "  </svg>\n",
              "      </button>\n",
              "      \n",
              "  <style>\n",
              "    .colab-df-container {\n",
              "      display:flex;\n",
              "      flex-wrap:wrap;\n",
              "      gap: 12px;\n",
              "    }\n",
              "\n",
              "    .colab-df-convert {\n",
              "      background-color: #E8F0FE;\n",
              "      border: none;\n",
              "      border-radius: 50%;\n",
              "      cursor: pointer;\n",
              "      display: none;\n",
              "      fill: #1967D2;\n",
              "      height: 32px;\n",
              "      padding: 0 0 0 0;\n",
              "      width: 32px;\n",
              "    }\n",
              "\n",
              "    .colab-df-convert:hover {\n",
              "      background-color: #E2EBFA;\n",
              "      box-shadow: 0px 1px 2px rgba(60, 64, 67, 0.3), 0px 1px 3px 1px rgba(60, 64, 67, 0.15);\n",
              "      fill: #174EA6;\n",
              "    }\n",
              "\n",
              "    [theme=dark] .colab-df-convert {\n",
              "      background-color: #3B4455;\n",
              "      fill: #D2E3FC;\n",
              "    }\n",
              "\n",
              "    [theme=dark] .colab-df-convert:hover {\n",
              "      background-color: #434B5C;\n",
              "      box-shadow: 0px 1px 3px 1px rgba(0, 0, 0, 0.15);\n",
              "      filter: drop-shadow(0px 1px 2px rgba(0, 0, 0, 0.3));\n",
              "      fill: #FFFFFF;\n",
              "    }\n",
              "  </style>\n",
              "\n",
              "      <script>\n",
              "        const buttonEl =\n",
              "          document.querySelector('#df-f2703ecd-d88c-4e6b-bf20-355da48d039c button.colab-df-convert');\n",
              "        buttonEl.style.display =\n",
              "          google.colab.kernel.accessAllowed ? 'block' : 'none';\n",
              "\n",
              "        async function convertToInteractive(key) {\n",
              "          const element = document.querySelector('#df-f2703ecd-d88c-4e6b-bf20-355da48d039c');\n",
              "          const dataTable =\n",
              "            await google.colab.kernel.invokeFunction('convertToInteractive',\n",
              "                                                     [key], {});\n",
              "          if (!dataTable) return;\n",
              "\n",
              "          const docLinkHtml = 'Like what you see? Visit the ' +\n",
              "            '<a target=\"_blank\" href=https://colab.research.google.com/notebooks/data_table.ipynb>data table notebook</a>'\n",
              "            + ' to learn more about interactive tables.';\n",
              "          element.innerHTML = '';\n",
              "          dataTable['output_type'] = 'display_data';\n",
              "          await google.colab.output.renderOutput(dataTable, element);\n",
              "          const docLink = document.createElement('div');\n",
              "          docLink.innerHTML = docLinkHtml;\n",
              "          element.appendChild(docLink);\n",
              "        }\n",
              "      </script>\n",
              "    </div>\n",
              "  </div>\n",
              "  "
            ]
          },
          "metadata": {},
          "execution_count": 6
        }
      ]
    },
    {
      "cell_type": "markdown",
      "source": [
        "Observations:\n",
        "\n",
        "Everything seems okay except the maximum value which is WAY bigger than the mean by an order of magnitude which will skew any analysis done on with it. There are also zero values there which could be problematic.\n",
        "\n",
        "*...Next is Data Cleaning*"
      ],
      "metadata": {
        "id": "ktLkkMwAp3I8"
      }
    },
    {
      "cell_type": "markdown",
      "source": [
        "## Data Cleaning"
      ],
      "metadata": {
        "id": "rf1UUykcqkdZ"
      }
    },
    {
      "cell_type": "code",
      "source": [
        "### ---- Data Cleaning -----###\n",
        "\n",
        "#Replace 0 value in Children column with N\n",
        "\n",
        "data['Child'].unique()\n",
        "\n"
      ],
      "metadata": {
        "id": "a-wPMpHYR-Lf",
        "colab": {
          "base_uri": "https://localhost:8080/"
        },
        "outputId": "0b0d357c-fd90-48a5-8ace-5db12af99fce"
      },
      "execution_count": 7,
      "outputs": [
        {
          "output_type": "execute_result",
          "data": {
            "text/plain": [
              "array(['U', 'Y', 'N', '0'], dtype=object)"
            ]
          },
          "metadata": {},
          "execution_count": 7
        }
      ]
    },
    {
      "cell_type": "code",
      "source": [
        "# Zero children means no children so replacing 0's with N\n",
        "data['Child']=data['Child'].replace(\"0\", \"N\")"
      ],
      "metadata": {
        "id": "tyobIIDRtehQ"
      },
      "execution_count": 8,
      "outputs": []
    },
    {
      "cell_type": "code",
      "source": [
        "##  Data Cleaning - Handling NAs\n",
        "\n",
        "# Option 1 - Drop All rows that have one NA entry and save as \"clean data\"\n",
        "clean_data = data.dropna()\n",
        "#This removes over 15,000 rows & skews distribution of the target variable- not ideal"
      ],
      "metadata": {
        "id": "YX_eFneps1Hr"
      },
      "execution_count": 9,
      "outputs": []
    },
    {
      "cell_type": "code",
      "source": [
        "# Option 2 - Replace all NAs with 'unknown'as a category\n",
        "data['Gender']= data['Gender'].fillna('U')\n",
        "data['Marriage']= data['Marriage'].fillna('Unknown')\n",
        "data['House_Owner']= data['House_Owner'].fillna('Unknown') "
      ],
      "metadata": {
        "id": "0p7wn3I8SEMm"
      },
      "execution_count": 10,
      "outputs": []
    },
    {
      "cell_type": "markdown",
      "source": [
        "Going to treat the Education column differently . The number of missing entries is less than 750 which is below 2% of the total number of entries. We will assign them to the most frequent category which is 2 (see: *desc_data_object*). Because it is a small percentage, it should not affect the distribution of the data significantly."
      ],
      "metadata": {
        "id": "9HQ8ry6kvFz6"
      }
    },
    {
      "cell_type": "code",
      "source": [
        "# Option 2B - The Education column NA replaced with most frequent category\n",
        "data['Education']= data['Education'].fillna(\"2. Some College\") \n"
      ],
      "metadata": {
        "id": "1jHZXOkmurc0"
      },
      "execution_count": 11,
      "outputs": []
    },
    {
      "cell_type": "code",
      "source": [
        "data.describe(include=['object']) #Notice the entries are now complete 40,000\n"
      ],
      "metadata": {
        "id": "BKHxfYofSJXT",
        "colab": {
          "base_uri": "https://localhost:8080/",
          "height": 0
        },
        "outputId": "d09ae81a-fd2f-483b-c41b-19abe177c708"
      },
      "execution_count": 12,
      "outputs": [
        {
          "output_type": "execute_result",
          "data": {
            "text/plain": [
              "         Flag Gender        Education     Age Online Marriage  Child  \\\n",
              "count   40000  40000            40000   40000  40000    40000  40000   \n",
              "unique      2      3                5       7      2        3      3   \n",
              "top         Y      M  2. Some College  5_<=55      Y  Married      Y   \n",
              "freq    20000  22019            12141    8103  27319    20891  18012   \n",
              "\n",
              "          Occupation Mortgage House_Owner Region Fam_Income  \n",
              "count          40000    40000       40000  40000      40000  \n",
              "unique             6        3           3      5         13  \n",
              "top     Professional     1Low       Owner  South          E  \n",
              "freq           14936    29848       29232  15676       8432  "
            ],
            "text/html": [
              "\n",
              "  <div id=\"df-d04e7d8b-ad29-454b-8541-285e9cacaa90\">\n",
              "    <div class=\"colab-df-container\">\n",
              "      <div>\n",
              "<style scoped>\n",
              "    .dataframe tbody tr th:only-of-type {\n",
              "        vertical-align: middle;\n",
              "    }\n",
              "\n",
              "    .dataframe tbody tr th {\n",
              "        vertical-align: top;\n",
              "    }\n",
              "\n",
              "    .dataframe thead th {\n",
              "        text-align: right;\n",
              "    }\n",
              "</style>\n",
              "<table border=\"1\" class=\"dataframe\">\n",
              "  <thead>\n",
              "    <tr style=\"text-align: right;\">\n",
              "      <th></th>\n",
              "      <th>Flag</th>\n",
              "      <th>Gender</th>\n",
              "      <th>Education</th>\n",
              "      <th>Age</th>\n",
              "      <th>Online</th>\n",
              "      <th>Marriage</th>\n",
              "      <th>Child</th>\n",
              "      <th>Occupation</th>\n",
              "      <th>Mortgage</th>\n",
              "      <th>House_Owner</th>\n",
              "      <th>Region</th>\n",
              "      <th>Fam_Income</th>\n",
              "    </tr>\n",
              "  </thead>\n",
              "  <tbody>\n",
              "    <tr>\n",
              "      <th>count</th>\n",
              "      <td>40000</td>\n",
              "      <td>40000</td>\n",
              "      <td>40000</td>\n",
              "      <td>40000</td>\n",
              "      <td>40000</td>\n",
              "      <td>40000</td>\n",
              "      <td>40000</td>\n",
              "      <td>40000</td>\n",
              "      <td>40000</td>\n",
              "      <td>40000</td>\n",
              "      <td>40000</td>\n",
              "      <td>40000</td>\n",
              "    </tr>\n",
              "    <tr>\n",
              "      <th>unique</th>\n",
              "      <td>2</td>\n",
              "      <td>3</td>\n",
              "      <td>5</td>\n",
              "      <td>7</td>\n",
              "      <td>2</td>\n",
              "      <td>3</td>\n",
              "      <td>3</td>\n",
              "      <td>6</td>\n",
              "      <td>3</td>\n",
              "      <td>3</td>\n",
              "      <td>5</td>\n",
              "      <td>13</td>\n",
              "    </tr>\n",
              "    <tr>\n",
              "      <th>top</th>\n",
              "      <td>Y</td>\n",
              "      <td>M</td>\n",
              "      <td>2. Some College</td>\n",
              "      <td>5_&lt;=55</td>\n",
              "      <td>Y</td>\n",
              "      <td>Married</td>\n",
              "      <td>Y</td>\n",
              "      <td>Professional</td>\n",
              "      <td>1Low</td>\n",
              "      <td>Owner</td>\n",
              "      <td>South</td>\n",
              "      <td>E</td>\n",
              "    </tr>\n",
              "    <tr>\n",
              "      <th>freq</th>\n",
              "      <td>20000</td>\n",
              "      <td>22019</td>\n",
              "      <td>12141</td>\n",
              "      <td>8103</td>\n",
              "      <td>27319</td>\n",
              "      <td>20891</td>\n",
              "      <td>18012</td>\n",
              "      <td>14936</td>\n",
              "      <td>29848</td>\n",
              "      <td>29232</td>\n",
              "      <td>15676</td>\n",
              "      <td>8432</td>\n",
              "    </tr>\n",
              "  </tbody>\n",
              "</table>\n",
              "</div>\n",
              "      <button class=\"colab-df-convert\" onclick=\"convertToInteractive('df-d04e7d8b-ad29-454b-8541-285e9cacaa90')\"\n",
              "              title=\"Convert this dataframe to an interactive table.\"\n",
              "              style=\"display:none;\">\n",
              "        \n",
              "  <svg xmlns=\"http://www.w3.org/2000/svg\" height=\"24px\"viewBox=\"0 0 24 24\"\n",
              "       width=\"24px\">\n",
              "    <path d=\"M0 0h24v24H0V0z\" fill=\"none\"/>\n",
              "    <path d=\"M18.56 5.44l.94 2.06.94-2.06 2.06-.94-2.06-.94-.94-2.06-.94 2.06-2.06.94zm-11 1L8.5 8.5l.94-2.06 2.06-.94-2.06-.94L8.5 2.5l-.94 2.06-2.06.94zm10 10l.94 2.06.94-2.06 2.06-.94-2.06-.94-.94-2.06-.94 2.06-2.06.94z\"/><path d=\"M17.41 7.96l-1.37-1.37c-.4-.4-.92-.59-1.43-.59-.52 0-1.04.2-1.43.59L10.3 9.45l-7.72 7.72c-.78.78-.78 2.05 0 2.83L4 21.41c.39.39.9.59 1.41.59.51 0 1.02-.2 1.41-.59l7.78-7.78 2.81-2.81c.8-.78.8-2.07 0-2.86zM5.41 20L4 18.59l7.72-7.72 1.47 1.35L5.41 20z\"/>\n",
              "  </svg>\n",
              "      </button>\n",
              "      \n",
              "  <style>\n",
              "    .colab-df-container {\n",
              "      display:flex;\n",
              "      flex-wrap:wrap;\n",
              "      gap: 12px;\n",
              "    }\n",
              "\n",
              "    .colab-df-convert {\n",
              "      background-color: #E8F0FE;\n",
              "      border: none;\n",
              "      border-radius: 50%;\n",
              "      cursor: pointer;\n",
              "      display: none;\n",
              "      fill: #1967D2;\n",
              "      height: 32px;\n",
              "      padding: 0 0 0 0;\n",
              "      width: 32px;\n",
              "    }\n",
              "\n",
              "    .colab-df-convert:hover {\n",
              "      background-color: #E2EBFA;\n",
              "      box-shadow: 0px 1px 2px rgba(60, 64, 67, 0.3), 0px 1px 3px 1px rgba(60, 64, 67, 0.15);\n",
              "      fill: #174EA6;\n",
              "    }\n",
              "\n",
              "    [theme=dark] .colab-df-convert {\n",
              "      background-color: #3B4455;\n",
              "      fill: #D2E3FC;\n",
              "    }\n",
              "\n",
              "    [theme=dark] .colab-df-convert:hover {\n",
              "      background-color: #434B5C;\n",
              "      box-shadow: 0px 1px 3px 1px rgba(0, 0, 0, 0.15);\n",
              "      filter: drop-shadow(0px 1px 2px rgba(0, 0, 0, 0.3));\n",
              "      fill: #FFFFFF;\n",
              "    }\n",
              "  </style>\n",
              "\n",
              "      <script>\n",
              "        const buttonEl =\n",
              "          document.querySelector('#df-d04e7d8b-ad29-454b-8541-285e9cacaa90 button.colab-df-convert');\n",
              "        buttonEl.style.display =\n",
              "          google.colab.kernel.accessAllowed ? 'block' : 'none';\n",
              "\n",
              "        async function convertToInteractive(key) {\n",
              "          const element = document.querySelector('#df-d04e7d8b-ad29-454b-8541-285e9cacaa90');\n",
              "          const dataTable =\n",
              "            await google.colab.kernel.invokeFunction('convertToInteractive',\n",
              "                                                     [key], {});\n",
              "          if (!dataTable) return;\n",
              "\n",
              "          const docLinkHtml = 'Like what you see? Visit the ' +\n",
              "            '<a target=\"_blank\" href=https://colab.research.google.com/notebooks/data_table.ipynb>data table notebook</a>'\n",
              "            + ' to learn more about interactive tables.';\n",
              "          element.innerHTML = '';\n",
              "          dataTable['output_type'] = 'display_data';\n",
              "          await google.colab.output.renderOutput(dataTable, element);\n",
              "          const docLink = document.createElement('div');\n",
              "          docLink.innerHTML = docLinkHtml;\n",
              "          element.appendChild(docLink);\n",
              "        }\n",
              "      </script>\n",
              "    </div>\n",
              "  </div>\n",
              "  "
            ]
          },
          "metadata": {},
          "execution_count": 12
        }
      ]
    },
    {
      "cell_type": "markdown",
      "source": [
        "Now we want to keep only the 1st character of the Education, Age and Mortgage columns so that we just have numbers representing the entries instead of a mix of numbers and characters."
      ],
      "metadata": {
        "id": "FZS8e0LD0X-d"
      }
    },
    {
      "cell_type": "code",
      "source": [
        "##  Data Cleaning - Ordering and cleaning categorical data\n",
        "\n",
        "#Clean the age, mortgage and education entries to retain only numbers\n",
        "data['Education'] = data.Education.str[:1]\n",
        "data['Mortgage'] = data.Mortgage.str[:1]\n",
        "data['Age']=data.Age.str[:1]\n"
      ],
      "metadata": {
        "id": "w9mNNIBS_3p0"
      },
      "execution_count": 13,
      "outputs": []
    },
    {
      "cell_type": "markdown",
      "source": [
        "Next, in Flag and Online columns, we can change the binary Y/N responses to 1/0 respectively.\n",
        "Also, Family income is ordered so we can change those letters U-A to numbers 0-12 instead (*In order of increasing value*)."
      ],
      "metadata": {
        "id": "-z3mmzPA0w_a"
      }
    },
    {
      "cell_type": "code",
      "source": [
        "data['Flag'] = data['Flag'].map({'Y': 1, 'N': 0}) #Y/N to binary\n",
        "data['Online'] = data['Online'].map({'Y': 1, 'N': 0}) #Y/N to binary\n",
        "#Ranking the Fam_Income column letters\n",
        "data['Fam_Income']=data['Fam_Income'].map({'U':0,'L':1,'K':2,'J':3,'I':4,'H':5,'G':6,'F':7,'E':8,'D':9,'C':10,'B':11,'A':12})\n",
        "\n",
        "data.head()"
      ],
      "metadata": {
        "id": "gRNdvi-R0TTl",
        "colab": {
          "base_uri": "https://localhost:8080/",
          "height": 0
        },
        "outputId": "f1900d64-2f9e-4843-9515-204942827b88"
      },
      "execution_count": 14,
      "outputs": [
        {
          "output_type": "execute_result",
          "data": {
            "text/plain": [
              "   Flag Gender Education  House_Val Age  Online Marriage Child     Occupation  \\\n",
              "0     1      M         4     756460   1       0  Unknown     U   Professional   \n",
              "1     0      F         3     213171   7       0  Unknown     U   Professional   \n",
              "2     0      M         2     111147   2       1  Unknown     Y   Professional   \n",
              "3     1      M         2     354151   2       1   Single     U  Sales/Service   \n",
              "4     1      F         2     117087   1       1  Married     Y  Sales/Service   \n",
              "\n",
              "  Mortgage House_Owner     Region  Fam_Income  \n",
              "0        1     Unknown    Midwest           1  \n",
              "1        1       Owner  Northeast           6  \n",
              "2        1       Owner    Midwest           3  \n",
              "3        1     Unknown       West           1  \n",
              "4        1     Unknown      South           5  "
            ],
            "text/html": [
              "\n",
              "  <div id=\"df-1d876211-914b-4e88-97a2-c53a77631a2b\">\n",
              "    <div class=\"colab-df-container\">\n",
              "      <div>\n",
              "<style scoped>\n",
              "    .dataframe tbody tr th:only-of-type {\n",
              "        vertical-align: middle;\n",
              "    }\n",
              "\n",
              "    .dataframe tbody tr th {\n",
              "        vertical-align: top;\n",
              "    }\n",
              "\n",
              "    .dataframe thead th {\n",
              "        text-align: right;\n",
              "    }\n",
              "</style>\n",
              "<table border=\"1\" class=\"dataframe\">\n",
              "  <thead>\n",
              "    <tr style=\"text-align: right;\">\n",
              "      <th></th>\n",
              "      <th>Flag</th>\n",
              "      <th>Gender</th>\n",
              "      <th>Education</th>\n",
              "      <th>House_Val</th>\n",
              "      <th>Age</th>\n",
              "      <th>Online</th>\n",
              "      <th>Marriage</th>\n",
              "      <th>Child</th>\n",
              "      <th>Occupation</th>\n",
              "      <th>Mortgage</th>\n",
              "      <th>House_Owner</th>\n",
              "      <th>Region</th>\n",
              "      <th>Fam_Income</th>\n",
              "    </tr>\n",
              "  </thead>\n",
              "  <tbody>\n",
              "    <tr>\n",
              "      <th>0</th>\n",
              "      <td>1</td>\n",
              "      <td>M</td>\n",
              "      <td>4</td>\n",
              "      <td>756460</td>\n",
              "      <td>1</td>\n",
              "      <td>0</td>\n",
              "      <td>Unknown</td>\n",
              "      <td>U</td>\n",
              "      <td>Professional</td>\n",
              "      <td>1</td>\n",
              "      <td>Unknown</td>\n",
              "      <td>Midwest</td>\n",
              "      <td>1</td>\n",
              "    </tr>\n",
              "    <tr>\n",
              "      <th>1</th>\n",
              "      <td>0</td>\n",
              "      <td>F</td>\n",
              "      <td>3</td>\n",
              "      <td>213171</td>\n",
              "      <td>7</td>\n",
              "      <td>0</td>\n",
              "      <td>Unknown</td>\n",
              "      <td>U</td>\n",
              "      <td>Professional</td>\n",
              "      <td>1</td>\n",
              "      <td>Owner</td>\n",
              "      <td>Northeast</td>\n",
              "      <td>6</td>\n",
              "    </tr>\n",
              "    <tr>\n",
              "      <th>2</th>\n",
              "      <td>0</td>\n",
              "      <td>M</td>\n",
              "      <td>2</td>\n",
              "      <td>111147</td>\n",
              "      <td>2</td>\n",
              "      <td>1</td>\n",
              "      <td>Unknown</td>\n",
              "      <td>Y</td>\n",
              "      <td>Professional</td>\n",
              "      <td>1</td>\n",
              "      <td>Owner</td>\n",
              "      <td>Midwest</td>\n",
              "      <td>3</td>\n",
              "    </tr>\n",
              "    <tr>\n",
              "      <th>3</th>\n",
              "      <td>1</td>\n",
              "      <td>M</td>\n",
              "      <td>2</td>\n",
              "      <td>354151</td>\n",
              "      <td>2</td>\n",
              "      <td>1</td>\n",
              "      <td>Single</td>\n",
              "      <td>U</td>\n",
              "      <td>Sales/Service</td>\n",
              "      <td>1</td>\n",
              "      <td>Unknown</td>\n",
              "      <td>West</td>\n",
              "      <td>1</td>\n",
              "    </tr>\n",
              "    <tr>\n",
              "      <th>4</th>\n",
              "      <td>1</td>\n",
              "      <td>F</td>\n",
              "      <td>2</td>\n",
              "      <td>117087</td>\n",
              "      <td>1</td>\n",
              "      <td>1</td>\n",
              "      <td>Married</td>\n",
              "      <td>Y</td>\n",
              "      <td>Sales/Service</td>\n",
              "      <td>1</td>\n",
              "      <td>Unknown</td>\n",
              "      <td>South</td>\n",
              "      <td>5</td>\n",
              "    </tr>\n",
              "  </tbody>\n",
              "</table>\n",
              "</div>\n",
              "      <button class=\"colab-df-convert\" onclick=\"convertToInteractive('df-1d876211-914b-4e88-97a2-c53a77631a2b')\"\n",
              "              title=\"Convert this dataframe to an interactive table.\"\n",
              "              style=\"display:none;\">\n",
              "        \n",
              "  <svg xmlns=\"http://www.w3.org/2000/svg\" height=\"24px\"viewBox=\"0 0 24 24\"\n",
              "       width=\"24px\">\n",
              "    <path d=\"M0 0h24v24H0V0z\" fill=\"none\"/>\n",
              "    <path d=\"M18.56 5.44l.94 2.06.94-2.06 2.06-.94-2.06-.94-.94-2.06-.94 2.06-2.06.94zm-11 1L8.5 8.5l.94-2.06 2.06-.94-2.06-.94L8.5 2.5l-.94 2.06-2.06.94zm10 10l.94 2.06.94-2.06 2.06-.94-2.06-.94-.94-2.06-.94 2.06-2.06.94z\"/><path d=\"M17.41 7.96l-1.37-1.37c-.4-.4-.92-.59-1.43-.59-.52 0-1.04.2-1.43.59L10.3 9.45l-7.72 7.72c-.78.78-.78 2.05 0 2.83L4 21.41c.39.39.9.59 1.41.59.51 0 1.02-.2 1.41-.59l7.78-7.78 2.81-2.81c.8-.78.8-2.07 0-2.86zM5.41 20L4 18.59l7.72-7.72 1.47 1.35L5.41 20z\"/>\n",
              "  </svg>\n",
              "      </button>\n",
              "      \n",
              "  <style>\n",
              "    .colab-df-container {\n",
              "      display:flex;\n",
              "      flex-wrap:wrap;\n",
              "      gap: 12px;\n",
              "    }\n",
              "\n",
              "    .colab-df-convert {\n",
              "      background-color: #E8F0FE;\n",
              "      border: none;\n",
              "      border-radius: 50%;\n",
              "      cursor: pointer;\n",
              "      display: none;\n",
              "      fill: #1967D2;\n",
              "      height: 32px;\n",
              "      padding: 0 0 0 0;\n",
              "      width: 32px;\n",
              "    }\n",
              "\n",
              "    .colab-df-convert:hover {\n",
              "      background-color: #E2EBFA;\n",
              "      box-shadow: 0px 1px 2px rgba(60, 64, 67, 0.3), 0px 1px 3px 1px rgba(60, 64, 67, 0.15);\n",
              "      fill: #174EA6;\n",
              "    }\n",
              "\n",
              "    [theme=dark] .colab-df-convert {\n",
              "      background-color: #3B4455;\n",
              "      fill: #D2E3FC;\n",
              "    }\n",
              "\n",
              "    [theme=dark] .colab-df-convert:hover {\n",
              "      background-color: #434B5C;\n",
              "      box-shadow: 0px 1px 3px 1px rgba(0, 0, 0, 0.15);\n",
              "      filter: drop-shadow(0px 1px 2px rgba(0, 0, 0, 0.3));\n",
              "      fill: #FFFFFF;\n",
              "    }\n",
              "  </style>\n",
              "\n",
              "      <script>\n",
              "        const buttonEl =\n",
              "          document.querySelector('#df-1d876211-914b-4e88-97a2-c53a77631a2b button.colab-df-convert');\n",
              "        buttonEl.style.display =\n",
              "          google.colab.kernel.accessAllowed ? 'block' : 'none';\n",
              "\n",
              "        async function convertToInteractive(key) {\n",
              "          const element = document.querySelector('#df-1d876211-914b-4e88-97a2-c53a77631a2b');\n",
              "          const dataTable =\n",
              "            await google.colab.kernel.invokeFunction('convertToInteractive',\n",
              "                                                     [key], {});\n",
              "          if (!dataTable) return;\n",
              "\n",
              "          const docLinkHtml = 'Like what you see? Visit the ' +\n",
              "            '<a target=\"_blank\" href=https://colab.research.google.com/notebooks/data_table.ipynb>data table notebook</a>'\n",
              "            + ' to learn more about interactive tables.';\n",
              "          element.innerHTML = '';\n",
              "          dataTable['output_type'] = 'display_data';\n",
              "          await google.colab.output.renderOutput(dataTable, element);\n",
              "          const docLink = document.createElement('div');\n",
              "          docLink.innerHTML = docLinkHtml;\n",
              "          element.appendChild(docLink);\n",
              "        }\n",
              "      </script>\n",
              "    </div>\n",
              "  </div>\n",
              "  "
            ]
          },
          "metadata": {},
          "execution_count": 14
        }
      ]
    },
    {
      "cell_type": "markdown",
      "source": [
        "There are too many zero values in the House Val column."
      ],
      "metadata": {
        "id": "54JVs23WAcbT"
      }
    },
    {
      "cell_type": "code",
      "source": [
        "data['House_Val'].value_counts()[0]"
      ],
      "metadata": {
        "colab": {
          "base_uri": "https://localhost:8080/"
        },
        "id": "Nqushc5h2LWu",
        "outputId": "9dc9471c-39c8-429a-b2de-6ea159fd5e5c"
      },
      "execution_count": 15,
      "outputs": [
        {
          "output_type": "execute_result",
          "data": {
            "text/plain": [
              "7696"
            ]
          },
          "metadata": {},
          "execution_count": 15
        }
      ]
    },
    {
      "cell_type": "markdown",
      "source": [
        "We will replace them with the average house value for the region. So first we get the average house values grouped by region."
      ],
      "metadata": {
        "id": "9bcLvwk3AoLW"
      }
    },
    {
      "cell_type": "code",
      "source": [
        "grouped_house_region = data.groupby(['Region'])[['House_Val']].mean() #mean house value per region\n",
        "grouped_house_region\n"
      ],
      "metadata": {
        "colab": {
          "base_uri": "https://localhost:8080/",
          "height": 0
        },
        "id": "HXk4dAQO5YAT",
        "outputId": "623927b3-65c2-40ef-f1c6-cb2149818d74"
      },
      "execution_count": 16,
      "outputs": [
        {
          "output_type": "execute_result",
          "data": {
            "text/plain": [
              "               House_Val\n",
              "Region                  \n",
              "Midwest    195811.043666\n",
              "Northeast  341896.137022\n",
              "Rest       439255.269388\n",
              "South      277596.218104\n",
              "West       431424.201261"
            ],
            "text/html": [
              "\n",
              "  <div id=\"df-3451a772-072b-4458-bafb-37c3bce7eeec\">\n",
              "    <div class=\"colab-df-container\">\n",
              "      <div>\n",
              "<style scoped>\n",
              "    .dataframe tbody tr th:only-of-type {\n",
              "        vertical-align: middle;\n",
              "    }\n",
              "\n",
              "    .dataframe tbody tr th {\n",
              "        vertical-align: top;\n",
              "    }\n",
              "\n",
              "    .dataframe thead th {\n",
              "        text-align: right;\n",
              "    }\n",
              "</style>\n",
              "<table border=\"1\" class=\"dataframe\">\n",
              "  <thead>\n",
              "    <tr style=\"text-align: right;\">\n",
              "      <th></th>\n",
              "      <th>House_Val</th>\n",
              "    </tr>\n",
              "    <tr>\n",
              "      <th>Region</th>\n",
              "      <th></th>\n",
              "    </tr>\n",
              "  </thead>\n",
              "  <tbody>\n",
              "    <tr>\n",
              "      <th>Midwest</th>\n",
              "      <td>195811.043666</td>\n",
              "    </tr>\n",
              "    <tr>\n",
              "      <th>Northeast</th>\n",
              "      <td>341896.137022</td>\n",
              "    </tr>\n",
              "    <tr>\n",
              "      <th>Rest</th>\n",
              "      <td>439255.269388</td>\n",
              "    </tr>\n",
              "    <tr>\n",
              "      <th>South</th>\n",
              "      <td>277596.218104</td>\n",
              "    </tr>\n",
              "    <tr>\n",
              "      <th>West</th>\n",
              "      <td>431424.201261</td>\n",
              "    </tr>\n",
              "  </tbody>\n",
              "</table>\n",
              "</div>\n",
              "      <button class=\"colab-df-convert\" onclick=\"convertToInteractive('df-3451a772-072b-4458-bafb-37c3bce7eeec')\"\n",
              "              title=\"Convert this dataframe to an interactive table.\"\n",
              "              style=\"display:none;\">\n",
              "        \n",
              "  <svg xmlns=\"http://www.w3.org/2000/svg\" height=\"24px\"viewBox=\"0 0 24 24\"\n",
              "       width=\"24px\">\n",
              "    <path d=\"M0 0h24v24H0V0z\" fill=\"none\"/>\n",
              "    <path d=\"M18.56 5.44l.94 2.06.94-2.06 2.06-.94-2.06-.94-.94-2.06-.94 2.06-2.06.94zm-11 1L8.5 8.5l.94-2.06 2.06-.94-2.06-.94L8.5 2.5l-.94 2.06-2.06.94zm10 10l.94 2.06.94-2.06 2.06-.94-2.06-.94-.94-2.06-.94 2.06-2.06.94z\"/><path d=\"M17.41 7.96l-1.37-1.37c-.4-.4-.92-.59-1.43-.59-.52 0-1.04.2-1.43.59L10.3 9.45l-7.72 7.72c-.78.78-.78 2.05 0 2.83L4 21.41c.39.39.9.59 1.41.59.51 0 1.02-.2 1.41-.59l7.78-7.78 2.81-2.81c.8-.78.8-2.07 0-2.86zM5.41 20L4 18.59l7.72-7.72 1.47 1.35L5.41 20z\"/>\n",
              "  </svg>\n",
              "      </button>\n",
              "      \n",
              "  <style>\n",
              "    .colab-df-container {\n",
              "      display:flex;\n",
              "      flex-wrap:wrap;\n",
              "      gap: 12px;\n",
              "    }\n",
              "\n",
              "    .colab-df-convert {\n",
              "      background-color: #E8F0FE;\n",
              "      border: none;\n",
              "      border-radius: 50%;\n",
              "      cursor: pointer;\n",
              "      display: none;\n",
              "      fill: #1967D2;\n",
              "      height: 32px;\n",
              "      padding: 0 0 0 0;\n",
              "      width: 32px;\n",
              "    }\n",
              "\n",
              "    .colab-df-convert:hover {\n",
              "      background-color: #E2EBFA;\n",
              "      box-shadow: 0px 1px 2px rgba(60, 64, 67, 0.3), 0px 1px 3px 1px rgba(60, 64, 67, 0.15);\n",
              "      fill: #174EA6;\n",
              "    }\n",
              "\n",
              "    [theme=dark] .colab-df-convert {\n",
              "      background-color: #3B4455;\n",
              "      fill: #D2E3FC;\n",
              "    }\n",
              "\n",
              "    [theme=dark] .colab-df-convert:hover {\n",
              "      background-color: #434B5C;\n",
              "      box-shadow: 0px 1px 3px 1px rgba(0, 0, 0, 0.15);\n",
              "      filter: drop-shadow(0px 1px 2px rgba(0, 0, 0, 0.3));\n",
              "      fill: #FFFFFF;\n",
              "    }\n",
              "  </style>\n",
              "\n",
              "      <script>\n",
              "        const buttonEl =\n",
              "          document.querySelector('#df-3451a772-072b-4458-bafb-37c3bce7eeec button.colab-df-convert');\n",
              "        buttonEl.style.display =\n",
              "          google.colab.kernel.accessAllowed ? 'block' : 'none';\n",
              "\n",
              "        async function convertToInteractive(key) {\n",
              "          const element = document.querySelector('#df-3451a772-072b-4458-bafb-37c3bce7eeec');\n",
              "          const dataTable =\n",
              "            await google.colab.kernel.invokeFunction('convertToInteractive',\n",
              "                                                     [key], {});\n",
              "          if (!dataTable) return;\n",
              "\n",
              "          const docLinkHtml = 'Like what you see? Visit the ' +\n",
              "            '<a target=\"_blank\" href=https://colab.research.google.com/notebooks/data_table.ipynb>data table notebook</a>'\n",
              "            + ' to learn more about interactive tables.';\n",
              "          element.innerHTML = '';\n",
              "          dataTable['output_type'] = 'display_data';\n",
              "          await google.colab.output.renderOutput(dataTable, element);\n",
              "          const docLink = document.createElement('div');\n",
              "          docLink.innerHTML = docLinkHtml;\n",
              "          element.appendChild(docLink);\n",
              "        }\n",
              "      </script>\n",
              "    </div>\n",
              "  </div>\n",
              "  "
            ]
          },
          "metadata": {},
          "execution_count": 16
        }
      ]
    },
    {
      "cell_type": "code",
      "source": [
        "data['House_Val'] = np.where((data['House_Val'] <= 0) & (data['Region'] == 'Midwest'), 195811, data['House_Val'])\n"
      ],
      "metadata": {
        "id": "K6FEEuse_pvs"
      },
      "execution_count": 17,
      "outputs": []
    },
    {
      "cell_type": "code",
      "source": [
        "data['House_Val'] = np.where((data['House_Val'] <= 0) & (data['Region'] == 'Northeast'), 341896, data['House_Val'])\n"
      ],
      "metadata": {
        "id": "TqI-i9b6C79X"
      },
      "execution_count": 18,
      "outputs": []
    },
    {
      "cell_type": "code",
      "source": [
        "data['House_Val'] = np.where((data['House_Val'] <= 0) & (data['Region'] == 'Rest'), 439255, data['House_Val'])\n"
      ],
      "metadata": {
        "id": "a5y7k8PQDSBy"
      },
      "execution_count": 19,
      "outputs": []
    },
    {
      "cell_type": "code",
      "source": [
        "data['House_Val'] = np.where((data['House_Val'] <= 0) & (data['Region'] == 'South'), 277596, data['House_Val'])\n"
      ],
      "metadata": {
        "id": "jEsmuNX6DUqU"
      },
      "execution_count": 20,
      "outputs": []
    },
    {
      "cell_type": "code",
      "source": [
        "data['House_Val'] = np.where((data['House_Val'] <= 0) & (data['Region'] == 'West'), 431424, data['House_Val'])"
      ],
      "metadata": {
        "id": "UqUCtEOnDWPF"
      },
      "execution_count": 21,
      "outputs": []
    },
    {
      "cell_type": "markdown",
      "source": [
        "Quick check if it was successful? Yes, the minimum value in the House Val column is no longer zero."
      ],
      "metadata": {
        "id": "IEwV1-kOE-Xx"
      }
    },
    {
      "cell_type": "code",
      "source": [
        "data.describe(include=['number'])"
      ],
      "metadata": {
        "colab": {
          "base_uri": "https://localhost:8080/",
          "height": 0
        },
        "id": "TwZJ_kqbErRr",
        "outputId": "f0c298e9-4ba2-484b-ec99-6198c0e2ed43"
      },
      "execution_count": 22,
      "outputs": [
        {
          "output_type": "execute_result",
          "data": {
            "text/plain": [
              "               Flag     House_Val        Online    Fam_Income\n",
              "count  40000.000000  4.000000e+04  40000.000000  40000.000000\n",
              "mean       0.500000  3.659208e+05      0.682975      7.173825\n",
              "std        0.500006  3.975029e+05      0.465323      2.733212\n",
              "min        0.000000  5.000000e+03      0.000000      0.000000\n",
              "25%        0.000000  1.855180e+05      0.000000      6.000000\n",
              "50%        0.500000  2.775960e+05      1.000000      8.000000\n",
              "75%        1.000000  4.314240e+05      1.000000      9.000000\n",
              "max        1.000000  9.999999e+06      1.000000     12.000000"
            ],
            "text/html": [
              "\n",
              "  <div id=\"df-2e54583f-bf9b-4b3e-9856-d90ef90062ba\">\n",
              "    <div class=\"colab-df-container\">\n",
              "      <div>\n",
              "<style scoped>\n",
              "    .dataframe tbody tr th:only-of-type {\n",
              "        vertical-align: middle;\n",
              "    }\n",
              "\n",
              "    .dataframe tbody tr th {\n",
              "        vertical-align: top;\n",
              "    }\n",
              "\n",
              "    .dataframe thead th {\n",
              "        text-align: right;\n",
              "    }\n",
              "</style>\n",
              "<table border=\"1\" class=\"dataframe\">\n",
              "  <thead>\n",
              "    <tr style=\"text-align: right;\">\n",
              "      <th></th>\n",
              "      <th>Flag</th>\n",
              "      <th>House_Val</th>\n",
              "      <th>Online</th>\n",
              "      <th>Fam_Income</th>\n",
              "    </tr>\n",
              "  </thead>\n",
              "  <tbody>\n",
              "    <tr>\n",
              "      <th>count</th>\n",
              "      <td>40000.000000</td>\n",
              "      <td>4.000000e+04</td>\n",
              "      <td>40000.000000</td>\n",
              "      <td>40000.000000</td>\n",
              "    </tr>\n",
              "    <tr>\n",
              "      <th>mean</th>\n",
              "      <td>0.500000</td>\n",
              "      <td>3.659208e+05</td>\n",
              "      <td>0.682975</td>\n",
              "      <td>7.173825</td>\n",
              "    </tr>\n",
              "    <tr>\n",
              "      <th>std</th>\n",
              "      <td>0.500006</td>\n",
              "      <td>3.975029e+05</td>\n",
              "      <td>0.465323</td>\n",
              "      <td>2.733212</td>\n",
              "    </tr>\n",
              "    <tr>\n",
              "      <th>min</th>\n",
              "      <td>0.000000</td>\n",
              "      <td>5.000000e+03</td>\n",
              "      <td>0.000000</td>\n",
              "      <td>0.000000</td>\n",
              "    </tr>\n",
              "    <tr>\n",
              "      <th>25%</th>\n",
              "      <td>0.000000</td>\n",
              "      <td>1.855180e+05</td>\n",
              "      <td>0.000000</td>\n",
              "      <td>6.000000</td>\n",
              "    </tr>\n",
              "    <tr>\n",
              "      <th>50%</th>\n",
              "      <td>0.500000</td>\n",
              "      <td>2.775960e+05</td>\n",
              "      <td>1.000000</td>\n",
              "      <td>8.000000</td>\n",
              "    </tr>\n",
              "    <tr>\n",
              "      <th>75%</th>\n",
              "      <td>1.000000</td>\n",
              "      <td>4.314240e+05</td>\n",
              "      <td>1.000000</td>\n",
              "      <td>9.000000</td>\n",
              "    </tr>\n",
              "    <tr>\n",
              "      <th>max</th>\n",
              "      <td>1.000000</td>\n",
              "      <td>9.999999e+06</td>\n",
              "      <td>1.000000</td>\n",
              "      <td>12.000000</td>\n",
              "    </tr>\n",
              "  </tbody>\n",
              "</table>\n",
              "</div>\n",
              "      <button class=\"colab-df-convert\" onclick=\"convertToInteractive('df-2e54583f-bf9b-4b3e-9856-d90ef90062ba')\"\n",
              "              title=\"Convert this dataframe to an interactive table.\"\n",
              "              style=\"display:none;\">\n",
              "        \n",
              "  <svg xmlns=\"http://www.w3.org/2000/svg\" height=\"24px\"viewBox=\"0 0 24 24\"\n",
              "       width=\"24px\">\n",
              "    <path d=\"M0 0h24v24H0V0z\" fill=\"none\"/>\n",
              "    <path d=\"M18.56 5.44l.94 2.06.94-2.06 2.06-.94-2.06-.94-.94-2.06-.94 2.06-2.06.94zm-11 1L8.5 8.5l.94-2.06 2.06-.94-2.06-.94L8.5 2.5l-.94 2.06-2.06.94zm10 10l.94 2.06.94-2.06 2.06-.94-2.06-.94-.94-2.06-.94 2.06-2.06.94z\"/><path d=\"M17.41 7.96l-1.37-1.37c-.4-.4-.92-.59-1.43-.59-.52 0-1.04.2-1.43.59L10.3 9.45l-7.72 7.72c-.78.78-.78 2.05 0 2.83L4 21.41c.39.39.9.59 1.41.59.51 0 1.02-.2 1.41-.59l7.78-7.78 2.81-2.81c.8-.78.8-2.07 0-2.86zM5.41 20L4 18.59l7.72-7.72 1.47 1.35L5.41 20z\"/>\n",
              "  </svg>\n",
              "      </button>\n",
              "      \n",
              "  <style>\n",
              "    .colab-df-container {\n",
              "      display:flex;\n",
              "      flex-wrap:wrap;\n",
              "      gap: 12px;\n",
              "    }\n",
              "\n",
              "    .colab-df-convert {\n",
              "      background-color: #E8F0FE;\n",
              "      border: none;\n",
              "      border-radius: 50%;\n",
              "      cursor: pointer;\n",
              "      display: none;\n",
              "      fill: #1967D2;\n",
              "      height: 32px;\n",
              "      padding: 0 0 0 0;\n",
              "      width: 32px;\n",
              "    }\n",
              "\n",
              "    .colab-df-convert:hover {\n",
              "      background-color: #E2EBFA;\n",
              "      box-shadow: 0px 1px 2px rgba(60, 64, 67, 0.3), 0px 1px 3px 1px rgba(60, 64, 67, 0.15);\n",
              "      fill: #174EA6;\n",
              "    }\n",
              "\n",
              "    [theme=dark] .colab-df-convert {\n",
              "      background-color: #3B4455;\n",
              "      fill: #D2E3FC;\n",
              "    }\n",
              "\n",
              "    [theme=dark] .colab-df-convert:hover {\n",
              "      background-color: #434B5C;\n",
              "      box-shadow: 0px 1px 3px 1px rgba(0, 0, 0, 0.15);\n",
              "      filter: drop-shadow(0px 1px 2px rgba(0, 0, 0, 0.3));\n",
              "      fill: #FFFFFF;\n",
              "    }\n",
              "  </style>\n",
              "\n",
              "      <script>\n",
              "        const buttonEl =\n",
              "          document.querySelector('#df-2e54583f-bf9b-4b3e-9856-d90ef90062ba button.colab-df-convert');\n",
              "        buttonEl.style.display =\n",
              "          google.colab.kernel.accessAllowed ? 'block' : 'none';\n",
              "\n",
              "        async function convertToInteractive(key) {\n",
              "          const element = document.querySelector('#df-2e54583f-bf9b-4b3e-9856-d90ef90062ba');\n",
              "          const dataTable =\n",
              "            await google.colab.kernel.invokeFunction('convertToInteractive',\n",
              "                                                     [key], {});\n",
              "          if (!dataTable) return;\n",
              "\n",
              "          const docLinkHtml = 'Like what you see? Visit the ' +\n",
              "            '<a target=\"_blank\" href=https://colab.research.google.com/notebooks/data_table.ipynb>data table notebook</a>'\n",
              "            + ' to learn more about interactive tables.';\n",
              "          element.innerHTML = '';\n",
              "          dataTable['output_type'] = 'display_data';\n",
              "          await google.colab.output.renderOutput(dataTable, element);\n",
              "          const docLink = document.createElement('div');\n",
              "          docLink.innerHTML = docLinkHtml;\n",
              "          element.appendChild(docLink);\n",
              "        }\n",
              "      </script>\n",
              "    </div>\n",
              "  </div>\n",
              "  "
            ]
          },
          "metadata": {},
          "execution_count": 22
        }
      ]
    },
    {
      "cell_type": "markdown",
      "source": [
        "## Data Visualisation"
      ],
      "metadata": {
        "id": "3IwXlNAg-MjU"
      }
    },
    {
      "cell_type": "markdown",
      "source": [
        "***First Hypothesis:***\n",
        "\n",
        "The older people get, the more likely they are to buy life insurance as they are more likely to have possessions and plans for what happens when they are either unable to work or are no longer present for their loved ones.\n",
        "\n",
        "First, a quick view of the age distribution."
      ],
      "metadata": {
        "id": "wBrM_EIU-YTP"
      }
    },
    {
      "cell_type": "code",
      "source": [
        "# Age distribution and Subscription Status\n",
        "import seaborn as sns\n",
        "\n",
        "sns.catplot(\n",
        "    data=data, x=\"Age\", hue=\"Flag\", kind=\"count\",\n",
        "    palette=\"pastel\", edgecolor=\".6\", order=['1','2','3','4','5','6','7'],\n",
        ").set(title=\"Age Group Distribution and Subscriptions\")"
      ],
      "metadata": {
        "id": "j11glQLMWGxP",
        "colab": {
          "base_uri": "https://localhost:8080/",
          "height": 0
        },
        "outputId": "e2173b38-ace8-470e-909b-6cfa14f54d89"
      },
      "execution_count": 23,
      "outputs": [
        {
          "output_type": "execute_result",
          "data": {
            "text/plain": [
              "<seaborn.axisgrid.FacetGrid at 0x7f378060fee0>"
            ]
          },
          "metadata": {},
          "execution_count": 23
        },
        {
          "output_type": "display_data",
          "data": {
            "text/plain": [
              "<Figure size 402.375x360 with 1 Axes>"
            ],
            "image/png": "[encoded data removed]"
          },
          "metadata": {
            "needs_background": "light"
          }
        }
      ]
    },
    {
      "cell_type": "markdown",
      "source": [
        "Graph above shows that generally as people get older they tend to sign up more for life insurance. The only exception to this trend is the Unknown Age group and the elderly over 65 age group. The first guess is this might be an education issue. The more educated one is, the more likely they are to use insurance and other banking services as a whole. The next two graph explore the education distribtion between the general population and the outlier group (Labelled age_flag_mismatch)\n"
      ],
      "metadata": {
        "id": "fZQWc9B_AwzM"
      }
    },
    {
      "cell_type": "code",
      "source": [
        "#Filtering the target group\n",
        "age_flag_mismatch = data[(data['Age'] == \"7\") | (data['Age']==\"1\")] \n",
        "\n",
        "#Plot their education distribution\n",
        "sns.catplot(\n",
        "    data=age_flag_mismatch, x=\"Education\", kind=\"count\",\n",
        "    palette=\"pastel\", edgecolor=\".6\",\n",
        ").set(title='Education Count for the \"Outlier Group\"')"
      ],
      "metadata": {
        "id": "CmtX17u-b7nw",
        "colab": {
          "base_uri": "https://localhost:8080/",
          "height": 0
        },
        "outputId": "0b30c931-8bbe-4d59-b0aa-9c9a4221ac85"
      },
      "execution_count": 24,
      "outputs": [
        {
          "output_type": "execute_result",
          "data": {
            "text/plain": [
              "<seaborn.axisgrid.FacetGrid at 0x7f37809d4f40>"
            ]
          },
          "metadata": {},
          "execution_count": 24
        },
        {
          "output_type": "display_data",
          "data": {
            "text/plain": [
              "<Figure size 360x360 with 1 Axes>"
            ],
            "image/png": "[encoded data removed]"
          },
          "metadata": {
            "needs_background": "light"
          }
        }
      ]
    },
    {
      "cell_type": "markdown",
      "source": [
        "Compare them with the education of the general population."
      ],
      "metadata": {
        "id": "-6bCTEXlCUjA"
      }
    },
    {
      "cell_type": "code",
      "source": [
        "sns.catplot(\n",
        "    data=data, x=\"Education\", kind=\"count\",\n",
        "    palette=\"pastel\", edgecolor=\".6\",\n",
        ").set(title=\"Education Distribution in General\")"
      ],
      "metadata": {
        "id": "U0FQyr-wXpEo",
        "colab": {
          "base_uri": "https://localhost:8080/",
          "height": 0
        },
        "outputId": "9737ecb6-c314-4a99-c642-a67da3dcd508"
      },
      "execution_count": 25,
      "outputs": [
        {
          "output_type": "execute_result",
          "data": {
            "text/plain": [
              "<seaborn.axisgrid.FacetGrid at 0x7f37809d4550>"
            ]
          },
          "metadata": {},
          "execution_count": 25
        },
        {
          "output_type": "display_data",
          "data": {
            "text/plain": [
              "<Figure size 360x360 with 1 Axes>"
            ],
            "image/png": "[encoded data removed]"
          },
          "metadata": {
            "needs_background": "light"
          }
        }
      ]
    },
    {
      "cell_type": "markdown",
      "source": [
        "So from comparing the two distributions, we can see than indeed that target group is less educated when compared to the rest of the population. \n",
        "\n",
        "Therefore, ***age*** and ***education*** are very likely to be significant predictors of subscription. So let's explore the relationship between Education and Insurance package subscriptions."
      ],
      "metadata": {
        "id": "3Q_z-T9yeyyq"
      }
    },
    {
      "cell_type": "code",
      "source": [
        "sns.catplot(\n",
        "    data=data, x=\"Education\", hue=\"Flag\", kind=\"count\",\n",
        "    palette=\"pastel\", edgecolor=\".6\",\n",
        ").set(title=\"Level of Education vs Insurance\")"
      ],
      "metadata": {
        "id": "_2O2swGWnR6t",
        "colab": {
          "base_uri": "https://localhost:8080/",
          "height": 0
        },
        "outputId": "2bac91bc-b834-4de4-cb3d-3400c51ebec0"
      },
      "execution_count": 26,
      "outputs": [
        {
          "output_type": "execute_result",
          "data": {
            "text/plain": [
              "<seaborn.axisgrid.FacetGrid at 0x7f377dd1a370>"
            ]
          },
          "metadata": {},
          "execution_count": 26
        },
        {
          "output_type": "display_data",
          "data": {
            "text/plain": [
              "<Figure size 402.375x360 with 1 Axes>"
            ],
            "image/png": "[encoded data removed]"
          },
          "metadata": {
            "needs_background": "light"
          }
        }
      ]
    },
    {
      "cell_type": "markdown",
      "source": [
        "The hypothesis is confirmed. Insurance subscriptions clearly increase with level of education."
      ],
      "metadata": {
        "id": "6OYjeYaND-Rv"
      }
    },
    {
      "cell_type": "markdown",
      "source": [
        "***Second Hypothesis:***\n",
        "\n",
        "The wealthier you are, the more likely you are to pay for insurance.\n",
        "\n",
        "Two indicators of disposable income are mortgage and house value so they are compared below."
      ],
      "metadata": {
        "id": "eUAwQu2CFJSk"
      }
    },
    {
      "cell_type": "code",
      "source": [
        "# Mortgage vs House Value\n",
        "\n",
        "sns.catplot(data=data, x=\"Mortgage\", y=\"House_Val\", hue=\"Flag\", kind=\"box\").set(title='Mortgage Level vs House Value')"
      ],
      "metadata": {
        "id": "H2LgFB-1vAm5",
        "colab": {
          "base_uri": "https://localhost:8080/",
          "height": 0
        },
        "outputId": "fa3ab712-0f98-4cb0-fdd1-7119c1b8856e"
      },
      "execution_count": 27,
      "outputs": [
        {
          "output_type": "execute_result",
          "data": {
            "text/plain": [
              "<seaborn.axisgrid.FacetGrid at 0x7f377db6d6a0>"
            ]
          },
          "metadata": {},
          "execution_count": 27
        },
        {
          "output_type": "display_data",
          "data": {
            "text/plain": [
              "<Figure size 402.375x360 with 1 Axes>"
            ],
            "image/png": "[encoded data removed]"
          },
          "metadata": {
            "needs_background": "light"
          }
        }
      ]
    },
    {
      "cell_type": "markdown",
      "source": [
        "The graph indicates two relationships at a glance:\n",
        "\n",
        "\n",
        "*   Mortgage Level is correlated with mean house value - the higher the value of your home, the higher the level of your mortgage. This makes sense.\n",
        "*   Within a Mortgage Level class, those with slightly higher value homes are more likely to buy the insurance plan.\n",
        "\n",
        "Also, the long tail of outliers (very expensive house values) especially in level 1 did not completely distort the distribution enough to make the distinction between Mortgage Levels unnoticeable.\n",
        "\n",
        "To confirm, we can check house value versus subscriptions alone. This is done below."
      ],
      "metadata": {
        "id": "jJs7951PF4C0"
      }
    },
    {
      "cell_type": "code",
      "source": [
        "sns.catplot(data=data, x=\"Flag\", y=\"House_Val\").set(title=\"House Value by Subscription\", xlabel=\"Flag: 0=No, 1=Yes\")"
      ],
      "metadata": {
        "colab": {
          "base_uri": "https://localhost:8080/",
          "height": 0
        },
        "id": "t-e7-uxQMYcH",
        "outputId": "248772c2-9399-47a7-dfa0-8e3dcc4cf30c"
      },
      "execution_count": 28,
      "outputs": [
        {
          "output_type": "execute_result",
          "data": {
            "text/plain": [
              "<seaborn.axisgrid.FacetGrid at 0x7f377db483a0>"
            ]
          },
          "metadata": {},
          "execution_count": 28
        },
        {
          "output_type": "display_data",
          "data": {
            "text/plain": [
              "<Figure size 360x360 with 1 Axes>"
            ],
            "image/png": "[encoded data removed]"
          },
          "metadata": {
            "needs_background": "light"
          }
        }
      ]
    },
    {
      "cell_type": "markdown",
      "source": [
        "There seems to be a clear correlation between the level of family income and subscriptions. The higher the income level, the lower the acceptance ratio for life insurance. It may be theorised that those higher classes already have a life insurance package or a sufficiently better substitute."
      ],
      "metadata": {
        "id": "zmLDq7ZULIXp"
      }
    },
    {
      "cell_type": "code",
      "source": [
        "grouped_income = data.groupby(['Fam_Income','Flag'])[['Gender']].count()\n",
        "grouped_income\n",
        "sns.catplot(data=data, x=\"Fam_Income\", hue=\"Flag\", kind=\"count\").set(title='Family Income Subscriptions', xlabel=\"Family Income Level\")"
      ],
      "metadata": {
        "id": "pHrYLn1Y6_RJ",
        "colab": {
          "base_uri": "https://localhost:8080/",
          "height": 0
        },
        "outputId": "4357af6e-250a-4f73-ad1f-e6758733bc90"
      },
      "execution_count": 29,
      "outputs": [
        {
          "output_type": "execute_result",
          "data": {
            "text/plain": [
              "<seaborn.axisgrid.FacetGrid at 0x7f377dbd6160>"
            ]
          },
          "metadata": {},
          "execution_count": 29
        },
        {
          "output_type": "display_data",
          "data": {
            "text/plain": [
              "<Figure size 402.375x360 with 1 Axes>"
            ],
            "image/png": "[encoded data removed]"
          },
          "metadata": {
            "needs_background": "light"
          }
        }
      ]
    },
    {
      "cell_type": "markdown",
      "source": [
        "***Third Hypothesis:***\n",
        "\n",
        "People with children are more likely to take a life insurance policy. Children are more often the ones in need of support when an adult passes or is incapacitated."
      ],
      "metadata": {
        "id": "wco0u7muPIWI"
      }
    },
    {
      "cell_type": "code",
      "source": [
        "!pip install squarify\n",
        "import squarify\n",
        "\n",
        "#Table showing Flag by Child status count  \n",
        "# Note: Gender is irrelevant, it could be any other column name there\n",
        "\n",
        "grouped_child = data.groupby(['Child','Flag'])[['Gender']].count()\n",
        "grouped_child "
      ],
      "metadata": {
        "id": "2l1gukw8y7AB",
        "colab": {
          "base_uri": "https://localhost:8080/",
          "height": 0
        },
        "outputId": "46045d18-6a30-481b-b1bc-e0f078a49ae3"
      },
      "execution_count": 30,
      "outputs": [
        {
          "output_type": "stream",
          "name": "stdout",
          "text": [
            "Looking in indexes: https://pypi.org/simple, https://us-python.pkg.dev/colab-wheels/public/simple/\n",
            "Collecting squarify\n",
            "  Downloading squarify-0.4.3-py3-none-any.whl (4.3 kB)\n",
            "Installing collected packages: squarify\n",
            "Successfully installed squarify-0.4.3\n"
          ]
        },
        {
          "output_type": "execute_result",
          "data": {
            "text/plain": [
              "            Gender\n",
              "Child Flag        \n",
              "N     0       7249\n",
              "      1       6211\n",
              "U     0       4206\n",
              "      1       4322\n",
              "Y     0       8545\n",
              "      1       9467"
            ],
            "text/html": [
              "\n",
              "  <div id=\"df-8d3979b8-a1ef-42ce-87db-2047b0e9753f\">\n",
              "    <div class=\"colab-df-container\">\n",
              "      <div>\n",
              "<style scoped>\n",
              "    .dataframe tbody tr th:only-of-type {\n",
              "        vertical-align: middle;\n",
              "    }\n",
              "\n",
              "    .dataframe tbody tr th {\n",
              "        vertical-align: top;\n",
              "    }\n",
              "\n",
              "    .dataframe thead th {\n",
              "        text-align: right;\n",
              "    }\n",
              "</style>\n",
              "<table border=\"1\" class=\"dataframe\">\n",
              "  <thead>\n",
              "    <tr style=\"text-align: right;\">\n",
              "      <th></th>\n",
              "      <th></th>\n",
              "      <th>Gender</th>\n",
              "    </tr>\n",
              "    <tr>\n",
              "      <th>Child</th>\n",
              "      <th>Flag</th>\n",
              "      <th></th>\n",
              "    </tr>\n",
              "  </thead>\n",
              "  <tbody>\n",
              "    <tr>\n",
              "      <th rowspan=\"2\" valign=\"top\">N</th>\n",
              "      <th>0</th>\n",
              "      <td>7249</td>\n",
              "    </tr>\n",
              "    <tr>\n",
              "      <th>1</th>\n",
              "      <td>6211</td>\n",
              "    </tr>\n",
              "    <tr>\n",
              "      <th rowspan=\"2\" valign=\"top\">U</th>\n",
              "      <th>0</th>\n",
              "      <td>4206</td>\n",
              "    </tr>\n",
              "    <tr>\n",
              "      <th>1</th>\n",
              "      <td>4322</td>\n",
              "    </tr>\n",
              "    <tr>\n",
              "      <th rowspan=\"2\" valign=\"top\">Y</th>\n",
              "      <th>0</th>\n",
              "      <td>8545</td>\n",
              "    </tr>\n",
              "    <tr>\n",
              "      <th>1</th>\n",
              "      <td>9467</td>\n",
              "    </tr>\n",
              "  </tbody>\n",
              "</table>\n",
              "</div>\n",
              "      <button class=\"colab-df-convert\" onclick=\"convertToInteractive('df-8d3979b8-a1ef-42ce-87db-2047b0e9753f')\"\n",
              "              title=\"Convert this dataframe to an interactive table.\"\n",
              "              style=\"display:none;\">\n",
              "        \n",
              "  <svg xmlns=\"http://www.w3.org/2000/svg\" height=\"24px\"viewBox=\"0 0 24 24\"\n",
              "       width=\"24px\">\n",
              "    <path d=\"M0 0h24v24H0V0z\" fill=\"none\"/>\n",
              "    <path d=\"M18.56 5.44l.94 2.06.94-2.06 2.06-.94-2.06-.94-.94-2.06-.94 2.06-2.06.94zm-11 1L8.5 8.5l.94-2.06 2.06-.94-2.06-.94L8.5 2.5l-.94 2.06-2.06.94zm10 10l.94 2.06.94-2.06 2.06-.94-2.06-.94-.94-2.06-.94 2.06-2.06.94z\"/><path d=\"M17.41 7.96l-1.37-1.37c-.4-.4-.92-.59-1.43-.59-.52 0-1.04.2-1.43.59L10.3 9.45l-7.72 7.72c-.78.78-.78 2.05 0 2.83L4 21.41c.39.39.9.59 1.41.59.51 0 1.02-.2 1.41-.59l7.78-7.78 2.81-2.81c.8-.78.8-2.07 0-2.86zM5.41 20L4 18.59l7.72-7.72 1.47 1.35L5.41 20z\"/>\n",
              "  </svg>\n",
              "      </button>\n",
              "      \n",
              "  <style>\n",
              "    .colab-df-container {\n",
              "      display:flex;\n",
              "      flex-wrap:wrap;\n",
              "      gap: 12px;\n",
              "    }\n",
              "\n",
              "    .colab-df-convert {\n",
              "      background-color: #E8F0FE;\n",
              "      border: none;\n",
              "      border-radius: 50%;\n",
              "      cursor: pointer;\n",
              "      display: none;\n",
              "      fill: #1967D2;\n",
              "      height: 32px;\n",
              "      padding: 0 0 0 0;\n",
              "      width: 32px;\n",
              "    }\n",
              "\n",
              "    .colab-df-convert:hover {\n",
              "      background-color: #E2EBFA;\n",
              "      box-shadow: 0px 1px 2px rgba(60, 64, 67, 0.3), 0px 1px 3px 1px rgba(60, 64, 67, 0.15);\n",
              "      fill: #174EA6;\n",
              "    }\n",
              "\n",
              "    [theme=dark] .colab-df-convert {\n",
              "      background-color: #3B4455;\n",
              "      fill: #D2E3FC;\n",
              "    }\n",
              "\n",
              "    [theme=dark] .colab-df-convert:hover {\n",
              "      background-color: #434B5C;\n",
              "      box-shadow: 0px 1px 3px 1px rgba(0, 0, 0, 0.15);\n",
              "      filter: drop-shadow(0px 1px 2px rgba(0, 0, 0, 0.3));\n",
              "      fill: #FFFFFF;\n",
              "    }\n",
              "  </style>\n",
              "\n",
              "      <script>\n",
              "        const buttonEl =\n",
              "          document.querySelector('#df-8d3979b8-a1ef-42ce-87db-2047b0e9753f button.colab-df-convert');\n",
              "        buttonEl.style.display =\n",
              "          google.colab.kernel.accessAllowed ? 'block' : 'none';\n",
              "\n",
              "        async function convertToInteractive(key) {\n",
              "          const element = document.querySelector('#df-8d3979b8-a1ef-42ce-87db-2047b0e9753f');\n",
              "          const dataTable =\n",
              "            await google.colab.kernel.invokeFunction('convertToInteractive',\n",
              "                                                     [key], {});\n",
              "          if (!dataTable) return;\n",
              "\n",
              "          const docLinkHtml = 'Like what you see? Visit the ' +\n",
              "            '<a target=\"_blank\" href=https://colab.research.google.com/notebooks/data_table.ipynb>data table notebook</a>'\n",
              "            + ' to learn more about interactive tables.';\n",
              "          element.innerHTML = '';\n",
              "          dataTable['output_type'] = 'display_data';\n",
              "          await google.colab.output.renderOutput(dataTable, element);\n",
              "          const docLink = document.createElement('div');\n",
              "          docLink.innerHTML = docLinkHtml;\n",
              "          element.appendChild(docLink);\n",
              "        }\n",
              "      </script>\n",
              "    </div>\n",
              "  </div>\n",
              "  "
            ]
          },
          "metadata": {},
          "execution_count": 30
        }
      ]
    },
    {
      "cell_type": "code",
      "source": [
        "squarify.plot(sizes=grouped_child.values, label=grouped_child.index, alpha=0.7, \n",
        "              edgecolor=\"black\", linewidth=2).set(title=\"(Child,Flag) Treemap\")"
      ],
      "metadata": {
        "id": "GL-8lghi1C35",
        "colab": {
          "base_uri": "https://localhost:8080/",
          "height": 0
        },
        "outputId": "216e8372-57b3-4583-9456-31f8f7233c90"
      },
      "execution_count": 31,
      "outputs": [
        {
          "output_type": "execute_result",
          "data": {
            "text/plain": [
              "[Text(0.5, 1.0, '(Child,Flag) Treemap')]"
            ]
          },
          "metadata": {},
          "execution_count": 31
        },
        {
          "output_type": "display_data",
          "data": {
            "text/plain": [
              "<Figure size 432x288 with 1 Axes>"
            ],
            "image/png": "[encoded data removed]"
          },
          "metadata": {
            "needs_background": "light"
          }
        }
      ]
    },
    {
      "cell_type": "markdown",
      "source": [
        "The treemap and table above show that there is no strong correlation between having children and signing up for a life insurance plan. There are more customers with children than without and yet Y/N ratio among them is not very high. Childless customers are definitely less likely to subscribe but its not a strong relationship."
      ],
      "metadata": {
        "id": "eFi6Ua-_RRUm"
      }
    },
    {
      "cell_type": "markdown",
      "source": [
        "***Fourth Hypothesis:***\n",
        "\n",
        "Because life insurance is often a lengthy process, customers may be less likely to book this online."
      ],
      "metadata": {
        "id": "q9h1AZ81SAol"
      }
    },
    {
      "cell_type": "code",
      "source": [
        "grouped_online = data.groupby(['Online','Flag'])[['Gender']].count()\n",
        "grouped_online"
      ],
      "metadata": {
        "id": "3bEMUGHt6WOx",
        "colab": {
          "base_uri": "https://localhost:8080/",
          "height": 0
        },
        "outputId": "ec325269-6207-4931-94d5-6f52da70bc2f"
      },
      "execution_count": 32,
      "outputs": [
        {
          "output_type": "execute_result",
          "data": {
            "text/plain": [
              "             Gender\n",
              "Online Flag        \n",
              "0      0       8332\n",
              "       1       4349\n",
              "1      0      11668\n",
              "       1      15651"
            ],
            "text/html": [
              "\n",
              "  <div id=\"df-85abf357-2f4a-48e3-8784-f1042499f87b\">\n",
              "    <div class=\"colab-df-container\">\n",
              "      <div>\n",
              "<style scoped>\n",
              "    .dataframe tbody tr th:only-of-type {\n",
              "        vertical-align: middle;\n",
              "    }\n",
              "\n",
              "    .dataframe tbody tr th {\n",
              "        vertical-align: top;\n",
              "    }\n",
              "\n",
              "    .dataframe thead th {\n",
              "        text-align: right;\n",
              "    }\n",
              "</style>\n",
              "<table border=\"1\" class=\"dataframe\">\n",
              "  <thead>\n",
              "    <tr style=\"text-align: right;\">\n",
              "      <th></th>\n",
              "      <th></th>\n",
              "      <th>Gender</th>\n",
              "    </tr>\n",
              "    <tr>\n",
              "      <th>Online</th>\n",
              "      <th>Flag</th>\n",
              "      <th></th>\n",
              "    </tr>\n",
              "  </thead>\n",
              "  <tbody>\n",
              "    <tr>\n",
              "      <th rowspan=\"2\" valign=\"top\">0</th>\n",
              "      <th>0</th>\n",
              "      <td>8332</td>\n",
              "    </tr>\n",
              "    <tr>\n",
              "      <th>1</th>\n",
              "      <td>4349</td>\n",
              "    </tr>\n",
              "    <tr>\n",
              "      <th rowspan=\"2\" valign=\"top\">1</th>\n",
              "      <th>0</th>\n",
              "      <td>11668</td>\n",
              "    </tr>\n",
              "    <tr>\n",
              "      <th>1</th>\n",
              "      <td>15651</td>\n",
              "    </tr>\n",
              "  </tbody>\n",
              "</table>\n",
              "</div>\n",
              "      <button class=\"colab-df-convert\" onclick=\"convertToInteractive('df-85abf357-2f4a-48e3-8784-f1042499f87b')\"\n",
              "              title=\"Convert this dataframe to an interactive table.\"\n",
              "              style=\"display:none;\">\n",
              "        \n",
              "  <svg xmlns=\"http://www.w3.org/2000/svg\" height=\"24px\"viewBox=\"0 0 24 24\"\n",
              "       width=\"24px\">\n",
              "    <path d=\"M0 0h24v24H0V0z\" fill=\"none\"/>\n",
              "    <path d=\"M18.56 5.44l.94 2.06.94-2.06 2.06-.94-2.06-.94-.94-2.06-.94 2.06-2.06.94zm-11 1L8.5 8.5l.94-2.06 2.06-.94-2.06-.94L8.5 2.5l-.94 2.06-2.06.94zm10 10l.94 2.06.94-2.06 2.06-.94-2.06-.94-.94-2.06-.94 2.06-2.06.94z\"/><path d=\"M17.41 7.96l-1.37-1.37c-.4-.4-.92-.59-1.43-.59-.52 0-1.04.2-1.43.59L10.3 9.45l-7.72 7.72c-.78.78-.78 2.05 0 2.83L4 21.41c.39.39.9.59 1.41.59.51 0 1.02-.2 1.41-.59l7.78-7.78 2.81-2.81c.8-.78.8-2.07 0-2.86zM5.41 20L4 18.59l7.72-7.72 1.47 1.35L5.41 20z\"/>\n",
              "  </svg>\n",
              "      </button>\n",
              "      \n",
              "  <style>\n",
              "    .colab-df-container {\n",
              "      display:flex;\n",
              "      flex-wrap:wrap;\n",
              "      gap: 12px;\n",
              "    }\n",
              "\n",
              "    .colab-df-convert {\n",
              "      background-color: #E8F0FE;\n",
              "      border: none;\n",
              "      border-radius: 50%;\n",
              "      cursor: pointer;\n",
              "      display: none;\n",
              "      fill: #1967D2;\n",
              "      height: 32px;\n",
              "      padding: 0 0 0 0;\n",
              "      width: 32px;\n",
              "    }\n",
              "\n",
              "    .colab-df-convert:hover {\n",
              "      background-color: #E2EBFA;\n",
              "      box-shadow: 0px 1px 2px rgba(60, 64, 67, 0.3), 0px 1px 3px 1px rgba(60, 64, 67, 0.15);\n",
              "      fill: #174EA6;\n",
              "    }\n",
              "\n",
              "    [theme=dark] .colab-df-convert {\n",
              "      background-color: #3B4455;\n",
              "      fill: #D2E3FC;\n",
              "    }\n",
              "\n",
              "    [theme=dark] .colab-df-convert:hover {\n",
              "      background-color: #434B5C;\n",
              "      box-shadow: 0px 1px 3px 1px rgba(0, 0, 0, 0.15);\n",
              "      filter: drop-shadow(0px 1px 2px rgba(0, 0, 0, 0.3));\n",
              "      fill: #FFFFFF;\n",
              "    }\n",
              "  </style>\n",
              "\n",
              "      <script>\n",
              "        const buttonEl =\n",
              "          document.querySelector('#df-85abf357-2f4a-48e3-8784-f1042499f87b button.colab-df-convert');\n",
              "        buttonEl.style.display =\n",
              "          google.colab.kernel.accessAllowed ? 'block' : 'none';\n",
              "\n",
              "        async function convertToInteractive(key) {\n",
              "          const element = document.querySelector('#df-85abf357-2f4a-48e3-8784-f1042499f87b');\n",
              "          const dataTable =\n",
              "            await google.colab.kernel.invokeFunction('convertToInteractive',\n",
              "                                                     [key], {});\n",
              "          if (!dataTable) return;\n",
              "\n",
              "          const docLinkHtml = 'Like what you see? Visit the ' +\n",
              "            '<a target=\"_blank\" href=https://colab.research.google.com/notebooks/data_table.ipynb>data table notebook</a>'\n",
              "            + ' to learn more about interactive tables.';\n",
              "          element.innerHTML = '';\n",
              "          dataTable['output_type'] = 'display_data';\n",
              "          await google.colab.output.renderOutput(dataTable, element);\n",
              "          const docLink = document.createElement('div');\n",
              "          docLink.innerHTML = docLinkHtml;\n",
              "          element.appendChild(docLink);\n",
              "        }\n",
              "      </script>\n",
              "    </div>\n",
              "  </div>\n",
              "  "
            ]
          },
          "metadata": {},
          "execution_count": 32
        }
      ]
    },
    {
      "cell_type": "markdown",
      "source": [
        "*Hypothesis disproved*. Online is a strong predictor of signup rates. As seen below, the biggest area of the treemap is the (1,1) which mean Online and Yes to the insurance package."
      ],
      "metadata": {
        "id": "c047QK55S-Hq"
      }
    },
    {
      "cell_type": "code",
      "source": [
        "squarify.plot(sizes=grouped_online.values, label=grouped_online.index, alpha=0.7, \n",
        "              edgecolor=\"black\", linewidth=2).set(title=\"(Online,Flag) Treemap\")"
      ],
      "metadata": {
        "colab": {
          "base_uri": "https://localhost:8080/",
          "height": 0
        },
        "id": "ulQGFoZnTKks",
        "outputId": "ca38af83-7b07-40ce-d7a2-e760792f5de5"
      },
      "execution_count": 33,
      "outputs": [
        {
          "output_type": "execute_result",
          "data": {
            "text/plain": [
              "[Text(0.5, 1.0, '(Online,Flag) Treemap')]"
            ]
          },
          "metadata": {},
          "execution_count": 33
        },
        {
          "output_type": "display_data",
          "data": {
            "text/plain": [
              "<Figure size 432x288 with 1 Axes>"
            ],
            "image/png": "[encoded data removed]"
          },
          "metadata": {
            "needs_background": "light"
          }
        }
      ]
    },
    {
      "cell_type": "markdown",
      "source": [],
      "metadata": {
        "id": "JdzLpj08Ty8B"
      }
    },
    {
      "cell_type": "markdown",
      "source": [
        "## Preparing for Classification\n",
        "### Dummy variables\n",
        "Some of these categorical variables cannot be changed to numbers directly but we wish to still apply them to the training data so it is best to involve dummy variables. For example, in Region we create dummy variables - columns for each unique value of region. \n",
        "\n",
        "But to avoid the dummy variable trap which leads to multicollinearity, we drop one column. In this case, the most obvious option is 'Rest'."
      ],
      "metadata": {
        "id": "oc-p-h3pG4Ac"
      }
    },
    {
      "cell_type": "code",
      "source": [
        "dummy_region = pd.get_dummies(data['Region']).drop(columns=['Rest']) \n",
        "dummy_region\n"
      ],
      "metadata": {
        "id": "ctL-yRiezFSC",
        "colab": {
          "base_uri": "https://localhost:8080/",
          "height": 0
        },
        "outputId": "2f749bfe-ab0a-4d7b-ef95-ed79c2180cb5"
      },
      "execution_count": 34,
      "outputs": [
        {
          "output_type": "execute_result",
          "data": {
            "text/plain": [
              "       Midwest  Northeast  South  West\n",
              "0            1          0      0     0\n",
              "1            0          1      0     0\n",
              "2            1          0      0     0\n",
              "3            0          0      0     1\n",
              "4            0          0      1     0\n",
              "...        ...        ...    ...   ...\n",
              "39995        0          0      1     0\n",
              "39996        0          0      1     0\n",
              "39997        1          0      0     0\n",
              "39998        0          0      0     1\n",
              "39999        0          1      0     0\n",
              "\n",
              "[40000 rows x 4 columns]"
            ],
            "text/html": [
              "\n",
              "  <div id=\"df-b79029ab-311d-45ec-9df0-0724cd382a31\">\n",
              "    <div class=\"colab-df-container\">\n",
              "      <div>\n",
              "<style scoped>\n",
              "    .dataframe tbody tr th:only-of-type {\n",
              "        vertical-align: middle;\n",
              "    }\n",
              "\n",
              "    .dataframe tbody tr th {\n",
              "        vertical-align: top;\n",
              "    }\n",
              "\n",
              "    .dataframe thead th {\n",
              "        text-align: right;\n",
              "    }\n",
              "</style>\n",
              "<table border=\"1\" class=\"dataframe\">\n",
              "  <thead>\n",
              "    <tr style=\"text-align: right;\">\n",
              "      <th></th>\n",
              "      <th>Midwest</th>\n",
              "      <th>Northeast</th>\n",
              "      <th>South</th>\n",
              "      <th>West</th>\n",
              "    </tr>\n",
              "  </thead>\n",
              "  <tbody>\n",
              "    <tr>\n",
              "      <th>0</th>\n",
              "      <td>1</td>\n",
              "      <td>0</td>\n",
              "      <td>0</td>\n",
              "      <td>0</td>\n",
              "    </tr>\n",
              "    <tr>\n",
              "      <th>1</th>\n",
              "      <td>0</td>\n",
              "      <td>1</td>\n",
              "      <td>0</td>\n",
              "      <td>0</td>\n",
              "    </tr>\n",
              "    <tr>\n",
              "      <th>2</th>\n",
              "      <td>1</td>\n",
              "      <td>0</td>\n",
              "      <td>0</td>\n",
              "      <td>0</td>\n",
              "    </tr>\n",
              "    <tr>\n",
              "      <th>3</th>\n",
              "      <td>0</td>\n",
              "      <td>0</td>\n",
              "      <td>0</td>\n",
              "      <td>1</td>\n",
              "    </tr>\n",
              "    <tr>\n",
              "      <th>4</th>\n",
              "      <td>0</td>\n",
              "      <td>0</td>\n",
              "      <td>1</td>\n",
              "      <td>0</td>\n",
              "    </tr>\n",
              "    <tr>\n",
              "      <th>...</th>\n",
              "      <td>...</td>\n",
              "      <td>...</td>\n",
              "      <td>...</td>\n",
              "      <td>...</td>\n",
              "    </tr>\n",
              "    <tr>\n",
              "      <th>39995</th>\n",
              "      <td>0</td>\n",
              "      <td>0</td>\n",
              "      <td>1</td>\n",
              "      <td>0</td>\n",
              "    </tr>\n",
              "    <tr>\n",
              "      <th>39996</th>\n",
              "      <td>0</td>\n",
              "      <td>0</td>\n",
              "      <td>1</td>\n",
              "      <td>0</td>\n",
              "    </tr>\n",
              "    <tr>\n",
              "      <th>39997</th>\n",
              "      <td>1</td>\n",
              "      <td>0</td>\n",
              "      <td>0</td>\n",
              "      <td>0</td>\n",
              "    </tr>\n",
              "    <tr>\n",
              "      <th>39998</th>\n",
              "      <td>0</td>\n",
              "      <td>0</td>\n",
              "      <td>0</td>\n",
              "      <td>1</td>\n",
              "    </tr>\n",
              "    <tr>\n",
              "      <th>39999</th>\n",
              "      <td>0</td>\n",
              "      <td>1</td>\n",
              "      <td>0</td>\n",
              "      <td>0</td>\n",
              "    </tr>\n",
              "  </tbody>\n",
              "</table>\n",
              "<p>40000 rows × 4 columns</p>\n",
              "</div>\n",
              "      <button class=\"colab-df-convert\" onclick=\"convertToInteractive('df-b79029ab-311d-45ec-9df0-0724cd382a31')\"\n",
              "              title=\"Convert this dataframe to an interactive table.\"\n",
              "              style=\"display:none;\">\n",
              "        \n",
              "  <svg xmlns=\"http://www.w3.org/2000/svg\" height=\"24px\"viewBox=\"0 0 24 24\"\n",
              "       width=\"24px\">\n",
              "    <path d=\"M0 0h24v24H0V0z\" fill=\"none\"/>\n",
              "    <path d=\"M18.56 5.44l.94 2.06.94-2.06 2.06-.94-2.06-.94-.94-2.06-.94 2.06-2.06.94zm-11 1L8.5 8.5l.94-2.06 2.06-.94-2.06-.94L8.5 2.5l-.94 2.06-2.06.94zm10 10l.94 2.06.94-2.06 2.06-.94-2.06-.94-.94-2.06-.94 2.06-2.06.94z\"/><path d=\"M17.41 7.96l-1.37-1.37c-.4-.4-.92-.59-1.43-.59-.52 0-1.04.2-1.43.59L10.3 9.45l-7.72 7.72c-.78.78-.78 2.05 0 2.83L4 21.41c.39.39.9.59 1.41.59.51 0 1.02-.2 1.41-.59l7.78-7.78 2.81-2.81c.8-.78.8-2.07 0-2.86zM5.41 20L4 18.59l7.72-7.72 1.47 1.35L5.41 20z\"/>\n",
              "  </svg>\n",
              "      </button>\n",
              "      \n",
              "  <style>\n",
              "    .colab-df-container {\n",
              "      display:flex;\n",
              "      flex-wrap:wrap;\n",
              "      gap: 12px;\n",
              "    }\n",
              "\n",
              "    .colab-df-convert {\n",
              "      background-color: #E8F0FE;\n",
              "      border: none;\n",
              "      border-radius: 50%;\n",
              "      cursor: pointer;\n",
              "      display: none;\n",
              "      fill: #1967D2;\n",
              "      height: 32px;\n",
              "      padding: 0 0 0 0;\n",
              "      width: 32px;\n",
              "    }\n",
              "\n",
              "    .colab-df-convert:hover {\n",
              "      background-color: #E2EBFA;\n",
              "      box-shadow: 0px 1px 2px rgba(60, 64, 67, 0.3), 0px 1px 3px 1px rgba(60, 64, 67, 0.15);\n",
              "      fill: #174EA6;\n",
              "    }\n",
              "\n",
              "    [theme=dark] .colab-df-convert {\n",
              "      background-color: #3B4455;\n",
              "      fill: #D2E3FC;\n",
              "    }\n",
              "\n",
              "    [theme=dark] .colab-df-convert:hover {\n",
              "      background-color: #434B5C;\n",
              "      box-shadow: 0px 1px 3px 1px rgba(0, 0, 0, 0.15);\n",
              "      filter: drop-shadow(0px 1px 2px rgba(0, 0, 0, 0.3));\n",
              "      fill: #FFFFFF;\n",
              "    }\n",
              "  </style>\n",
              "\n",
              "      <script>\n",
              "        const buttonEl =\n",
              "          document.querySelector('#df-b79029ab-311d-45ec-9df0-0724cd382a31 button.colab-df-convert');\n",
              "        buttonEl.style.display =\n",
              "          google.colab.kernel.accessAllowed ? 'block' : 'none';\n",
              "\n",
              "        async function convertToInteractive(key) {\n",
              "          const element = document.querySelector('#df-b79029ab-311d-45ec-9df0-0724cd382a31');\n",
              "          const dataTable =\n",
              "            await google.colab.kernel.invokeFunction('convertToInteractive',\n",
              "                                                     [key], {});\n",
              "          if (!dataTable) return;\n",
              "\n",
              "          const docLinkHtml = 'Like what you see? Visit the ' +\n",
              "            '<a target=\"_blank\" href=https://colab.research.google.com/notebooks/data_table.ipynb>data table notebook</a>'\n",
              "            + ' to learn more about interactive tables.';\n",
              "          element.innerHTML = '';\n",
              "          dataTable['output_type'] = 'display_data';\n",
              "          await google.colab.output.renderOutput(dataTable, element);\n",
              "          const docLink = document.createElement('div');\n",
              "          docLink.innerHTML = docLinkHtml;\n",
              "          element.appendChild(docLink);\n",
              "        }\n",
              "      </script>\n",
              "    </div>\n",
              "  </div>\n",
              "  "
            ]
          },
          "metadata": {},
          "execution_count": 34
        }
      ]
    },
    {
      "cell_type": "code",
      "source": [
        "# Do the same for Married, House Owner, Child and drop the unknowns\n",
        "dummy_married = pd.get_dummies(data['Marriage']).drop(columns=['Unknown']) \n",
        "dummy_houseowner = pd.get_dummies(data['House_Owner']).drop(columns=['Unknown']) \n",
        "dummy_child = pd.get_dummies(data['Child']).drop(columns=['U'])\n",
        "dummy_gender = pd.get_dummies(data['Gender']).drop(columns=['U']) \n",
        "#For Occupation, we can drop Others\n",
        "dummy_occupation=pd.get_dummies(data['Occupation']).drop(columns=['Others'])"
      ],
      "metadata": {
        "id": "RiYoTvPBIeF0"
      },
      "execution_count": 35,
      "outputs": []
    },
    {
      "cell_type": "code",
      "source": [
        "new_data = pd.concat([data, dummy_region,dummy_married,dummy_houseowner,dummy_child,dummy_occupation, dummy_gender],axis=1)\n",
        "new_data.head()"
      ],
      "metadata": {
        "colab": {
          "base_uri": "https://localhost:8080/",
          "height": 0
        },
        "id": "AcgdbvWvJrVD",
        "outputId": "82fe317a-6533-41b8-e97b-8276f4d39f30"
      },
      "execution_count": 36,
      "outputs": [
        {
          "output_type": "execute_result",
          "data": {
            "text/plain": [
              "   Flag Gender Education  House_Val Age  Online Marriage Child     Occupation  \\\n",
              "0     1      M         4     756460   1       0  Unknown     U   Professional   \n",
              "1     0      F         3     213171   7       0  Unknown     U   Professional   \n",
              "2     0      M         2     111147   2       1  Unknown     Y   Professional   \n",
              "3     1      M         2     354151   2       1   Single     U  Sales/Service   \n",
              "4     1      F         2     117087   1       1  Married     Y  Sales/Service   \n",
              "\n",
              "  Mortgage  ... Renter  N  Y  Blue Collar  Farm  Professional  Retired  \\\n",
              "0        1  ...      0  0  0            0     0             1        0   \n",
              "1        1  ...      0  0  0            0     0             1        0   \n",
              "2        1  ...      0  0  1            0     0             1        0   \n",
              "3        1  ...      0  0  0            0     0             0        0   \n",
              "4        1  ...      0  0  1            0     0             0        0   \n",
              "\n",
              "   Sales/Service  F  M  \n",
              "0              0  0  1  \n",
              "1              0  1  0  \n",
              "2              0  0  1  \n",
              "3              1  0  1  \n",
              "4              1  1  0  \n",
              "\n",
              "[5 rows x 30 columns]"
            ],
            "text/html": [
              "\n",
              "  <div id=\"df-e6fe164e-298f-47f0-869b-2687afcc6dc7\">\n",
              "    <div class=\"colab-df-container\">\n",
              "      <div>\n",
              "<style scoped>\n",
              "    .dataframe tbody tr th:only-of-type {\n",
              "        vertical-align: middle;\n",
              "    }\n",
              "\n",
              "    .dataframe tbody tr th {\n",
              "        vertical-align: top;\n",
              "    }\n",
              "\n",
              "    .dataframe thead th {\n",
              "        text-align: right;\n",
              "    }\n",
              "</style>\n",
              "<table border=\"1\" class=\"dataframe\">\n",
              "  <thead>\n",
              "    <tr style=\"text-align: right;\">\n",
              "      <th></th>\n",
              "      <th>Flag</th>\n",
              "      <th>Gender</th>\n",
              "      <th>Education</th>\n",
              "      <th>House_Val</th>\n",
              "      <th>Age</th>\n",
              "      <th>Online</th>\n",
              "      <th>Marriage</th>\n",
              "      <th>Child</th>\n",
              "      <th>Occupation</th>\n",
              "      <th>Mortgage</th>\n",
              "      <th>...</th>\n",
              "      <th>Renter</th>\n",
              "      <th>N</th>\n",
              "      <th>Y</th>\n",
              "      <th>Blue Collar</th>\n",
              "      <th>Farm</th>\n",
              "      <th>Professional</th>\n",
              "      <th>Retired</th>\n",
              "      <th>Sales/Service</th>\n",
              "      <th>F</th>\n",
              "      <th>M</th>\n",
              "    </tr>\n",
              "  </thead>\n",
              "  <tbody>\n",
              "    <tr>\n",
              "      <th>0</th>\n",
              "      <td>1</td>\n",
              "      <td>M</td>\n",
              "      <td>4</td>\n",
              "      <td>756460</td>\n",
              "      <td>1</td>\n",
              "      <td>0</td>\n",
              "      <td>Unknown</td>\n",
              "      <td>U</td>\n",
              "      <td>Professional</td>\n",
              "      <td>1</td>\n",
              "      <td>...</td>\n",
              "      <td>0</td>\n",
              "      <td>0</td>\n",
              "      <td>0</td>\n",
              "      <td>0</td>\n",
              "      <td>0</td>\n",
              "      <td>1</td>\n",
              "      <td>0</td>\n",
              "      <td>0</td>\n",
              "      <td>0</td>\n",
              "      <td>1</td>\n",
              "    </tr>\n",
              "    <tr>\n",
              "      <th>1</th>\n",
              "      <td>0</td>\n",
              "      <td>F</td>\n",
              "      <td>3</td>\n",
              "      <td>213171</td>\n",
              "      <td>7</td>\n",
              "      <td>0</td>\n",
              "      <td>Unknown</td>\n",
              "      <td>U</td>\n",
              "      <td>Professional</td>\n",
              "      <td>1</td>\n",
              "      <td>...</td>\n",
              "      <td>0</td>\n",
              "      <td>0</td>\n",
              "      <td>0</td>\n",
              "      <td>0</td>\n",
              "      <td>0</td>\n",
              "      <td>1</td>\n",
              "      <td>0</td>\n",
              "      <td>0</td>\n",
              "      <td>1</td>\n",
              "      <td>0</td>\n",
              "    </tr>\n",
              "    <tr>\n",
              "      <th>2</th>\n",
              "      <td>0</td>\n",
              "      <td>M</td>\n",
              "      <td>2</td>\n",
              "      <td>111147</td>\n",
              "      <td>2</td>\n",
              "      <td>1</td>\n",
              "      <td>Unknown</td>\n",
              "      <td>Y</td>\n",
              "      <td>Professional</td>\n",
              "      <td>1</td>\n",
              "      <td>...</td>\n",
              "      <td>0</td>\n",
              "      <td>0</td>\n",
              "      <td>1</td>\n",
              "      <td>0</td>\n",
              "      <td>0</td>\n",
              "      <td>1</td>\n",
              "      <td>0</td>\n",
              "      <td>0</td>\n",
              "      <td>0</td>\n",
              "      <td>1</td>\n",
              "    </tr>\n",
              "    <tr>\n",
              "      <th>3</th>\n",
              "      <td>1</td>\n",
              "      <td>M</td>\n",
              "      <td>2</td>\n",
              "      <td>354151</td>\n",
              "      <td>2</td>\n",
              "      <td>1</td>\n",
              "      <td>Single</td>\n",
              "      <td>U</td>\n",
              "      <td>Sales/Service</td>\n",
              "      <td>1</td>\n",
              "      <td>...</td>\n",
              "      <td>0</td>\n",
              "      <td>0</td>\n",
              "      <td>0</td>\n",
              "      <td>0</td>\n",
              "      <td>0</td>\n",
              "      <td>0</td>\n",
              "      <td>0</td>\n",
              "      <td>1</td>\n",
              "      <td>0</td>\n",
              "      <td>1</td>\n",
              "    </tr>\n",
              "    <tr>\n",
              "      <th>4</th>\n",
              "      <td>1</td>\n",
              "      <td>F</td>\n",
              "      <td>2</td>\n",
              "      <td>117087</td>\n",
              "      <td>1</td>\n",
              "      <td>1</td>\n",
              "      <td>Married</td>\n",
              "      <td>Y</td>\n",
              "      <td>Sales/Service</td>\n",
              "      <td>1</td>\n",
              "      <td>...</td>\n",
              "      <td>0</td>\n",
              "      <td>0</td>\n",
              "      <td>1</td>\n",
              "      <td>0</td>\n",
              "      <td>0</td>\n",
              "      <td>0</td>\n",
              "      <td>0</td>\n",
              "      <td>1</td>\n",
              "      <td>1</td>\n",
              "      <td>0</td>\n",
              "    </tr>\n",
              "  </tbody>\n",
              "</table>\n",
              "<p>5 rows × 30 columns</p>\n",
              "</div>\n",
              "      <button class=\"colab-df-convert\" onclick=\"convertToInteractive('df-e6fe164e-298f-47f0-869b-2687afcc6dc7')\"\n",
              "              title=\"Convert this dataframe to an interactive table.\"\n",
              "              style=\"display:none;\">\n",
              "        \n",
              "  <svg xmlns=\"http://www.w3.org/2000/svg\" height=\"24px\"viewBox=\"0 0 24 24\"\n",
              "       width=\"24px\">\n",
              "    <path d=\"M0 0h24v24H0V0z\" fill=\"none\"/>\n",
              "    <path d=\"M18.56 5.44l.94 2.06.94-2.06 2.06-.94-2.06-.94-.94-2.06-.94 2.06-2.06.94zm-11 1L8.5 8.5l.94-2.06 2.06-.94-2.06-.94L8.5 2.5l-.94 2.06-2.06.94zm10 10l.94 2.06.94-2.06 2.06-.94-2.06-.94-.94-2.06-.94 2.06-2.06.94z\"/><path d=\"M17.41 7.96l-1.37-1.37c-.4-.4-.92-.59-1.43-.59-.52 0-1.04.2-1.43.59L10.3 9.45l-7.72 7.72c-.78.78-.78 2.05 0 2.83L4 21.41c.39.39.9.59 1.41.59.51 0 1.02-.2 1.41-.59l7.78-7.78 2.81-2.81c.8-.78.8-2.07 0-2.86zM5.41 20L4 18.59l7.72-7.72 1.47 1.35L5.41 20z\"/>\n",
              "  </svg>\n",
              "      </button>\n",
              "      \n",
              "  <style>\n",
              "    .colab-df-container {\n",
              "      display:flex;\n",
              "      flex-wrap:wrap;\n",
              "      gap: 12px;\n",
              "    }\n",
              "\n",
              "    .colab-df-convert {\n",
              "      background-color: #E8F0FE;\n",
              "      border: none;\n",
              "      border-radius: 50%;\n",
              "      cursor: pointer;\n",
              "      display: none;\n",
              "      fill: #1967D2;\n",
              "      height: 32px;\n",
              "      padding: 0 0 0 0;\n",
              "      width: 32px;\n",
              "    }\n",
              "\n",
              "    .colab-df-convert:hover {\n",
              "      background-color: #E2EBFA;\n",
              "      box-shadow: 0px 1px 2px rgba(60, 64, 67, 0.3), 0px 1px 3px 1px rgba(60, 64, 67, 0.15);\n",
              "      fill: #174EA6;\n",
              "    }\n",
              "\n",
              "    [theme=dark] .colab-df-convert {\n",
              "      background-color: #3B4455;\n",
              "      fill: #D2E3FC;\n",
              "    }\n",
              "\n",
              "    [theme=dark] .colab-df-convert:hover {\n",
              "      background-color: #434B5C;\n",
              "      box-shadow: 0px 1px 3px 1px rgba(0, 0, 0, 0.15);\n",
              "      filter: drop-shadow(0px 1px 2px rgba(0, 0, 0, 0.3));\n",
              "      fill: #FFFFFF;\n",
              "    }\n",
              "  </style>\n",
              "\n",
              "      <script>\n",
              "        const buttonEl =\n",
              "          document.querySelector('#df-e6fe164e-298f-47f0-869b-2687afcc6dc7 button.colab-df-convert');\n",
              "        buttonEl.style.display =\n",
              "          google.colab.kernel.accessAllowed ? 'block' : 'none';\n",
              "\n",
              "        async function convertToInteractive(key) {\n",
              "          const element = document.querySelector('#df-e6fe164e-298f-47f0-869b-2687afcc6dc7');\n",
              "          const dataTable =\n",
              "            await google.colab.kernel.invokeFunction('convertToInteractive',\n",
              "                                                     [key], {});\n",
              "          if (!dataTable) return;\n",
              "\n",
              "          const docLinkHtml = 'Like what you see? Visit the ' +\n",
              "            '<a target=\"_blank\" href=https://colab.research.google.com/notebooks/data_table.ipynb>data table notebook</a>'\n",
              "            + ' to learn more about interactive tables.';\n",
              "          element.innerHTML = '';\n",
              "          dataTable['output_type'] = 'display_data';\n",
              "          await google.colab.output.renderOutput(dataTable, element);\n",
              "          const docLink = document.createElement('div');\n",
              "          docLink.innerHTML = docLinkHtml;\n",
              "          element.appendChild(docLink);\n",
              "        }\n",
              "      </script>\n",
              "    </div>\n",
              "  </div>\n",
              "  "
            ]
          },
          "metadata": {},
          "execution_count": 36
        }
      ]
    },
    {
      "cell_type": "code",
      "source": [
        "#First rename child N Y columns for clarity\n",
        "new_data=new_data.rename(columns={\"N\": \"Child_N\", \"Y\": \"Child_Y\", \"F\":\"Gender_F\", \"M\":\"Gender_M\"})\n"
      ],
      "metadata": {
        "id": "7EisWYAVQ2hi"
      },
      "execution_count": 37,
      "outputs": []
    },
    {
      "cell_type": "code",
      "source": [
        "#Now to drop the columns we have duplicated as dummies\n",
        "new_data=new_data.drop(columns = ['Marriage','Region','House_Owner','Child','Occupation', 'Gender'])"
      ],
      "metadata": {
        "id": "k4WckVuRTFA1"
      },
      "execution_count": 38,
      "outputs": []
    },
    {
      "cell_type": "markdown",
      "source": [
        "# Classification\n"
      ],
      "metadata": {
        "id": "eV_oPYqiTi8v"
      }
    },
    {
      "cell_type": "code",
      "source": [
        "new_data.columns.values.tolist()"
      ],
      "metadata": {
        "colab": {
          "base_uri": "https://localhost:8080/"
        },
        "id": "hyypKte_zOG1",
        "outputId": "3a2de0d4-5e21-4287-ddaa-79806f7967fe"
      },
      "execution_count": 40,
      "outputs": [
        {
          "output_type": "execute_result",
          "data": {
            "text/plain": [
              "['Flag',\n",
              " 'Education',\n",
              " 'House_Val',\n",
              " 'Age',\n",
              " 'Online',\n",
              " 'Mortgage',\n",
              " 'Fam_Income',\n",
              " 'Midwest',\n",
              " 'Northeast',\n",
              " 'South',\n",
              " 'West',\n",
              " 'Married',\n",
              " 'Single',\n",
              " 'Owner',\n",
              " 'Renter',\n",
              " 'Child_N',\n",
              " 'Child_Y',\n",
              " 'Blue Collar',\n",
              " 'Farm',\n",
              " 'Professional',\n",
              " 'Retired',\n",
              " 'Sales/Service',\n",
              " 'Gender_F',\n",
              " 'Gender_M']"
            ]
          },
          "metadata": {},
          "execution_count": 40
        }
      ]
    },
    {
      "cell_type": "code",
      "source": [
        "from sklearn.model_selection import train_test_split\n",
        "X_train, X_test, y_train, y_test = train_test_split(new_data[['Education',\n",
        " 'House_Val',\n",
        " 'Age',\n",
        " 'Online',\n",
        " 'Mortgage',\n",
        " 'Fam_Income',\n",
        " 'Midwest',\n",
        " 'Northeast',\n",
        " 'South',\n",
        " 'West',\n",
        " 'Married',\n",
        " 'Single',\n",
        " 'Owner',\n",
        " 'Renter',\n",
        " 'Child_N',\n",
        " 'Child_Y',\n",
        " 'Blue Collar',\n",
        " 'Farm',\n",
        " 'Professional',\n",
        " 'Retired',\n",
        " 'Sales/Service',\n",
        " 'Gender_F',\n",
        " 'Gender_M']], new_data['Flag'], test_size=0.3, random_state=40381881)"
      ],
      "metadata": {
        "id": "3x9ElJiVRnOP"
      },
      "execution_count": 41,
      "outputs": []
    },
    {
      "cell_type": "code",
      "source": [
        "lr = LogisticRegression(multi_class='auto',solver='liblinear')\n",
        "model = lr.fit(X_train, y_train)\n",
        "\n",
        "accuracy = model.score(X_test, y_test)\n",
        "print (\"Accuracy is {}\".format(accuracy))\n"
      ],
      "metadata": {
        "colab": {
          "base_uri": "https://localhost:8080/"
        },
        "id": "SX0a38A4qlvw",
        "outputId": "6797e7e0-0679-48b7-83e9-c87c2b28d552"
      },
      "execution_count": 42,
      "outputs": [
        {
          "output_type": "stream",
          "name": "stdout",
          "text": [
            "Accuracy is 0.5005833333333334\n"
          ]
        }
      ]
    },
    {
      "cell_type": "code",
      "source": [
        "from sklearn.ensemble import RandomForestClassifier\n",
        "\n",
        "clf = RandomForestClassifier(n_estimators=10)\n",
        "model_random = clf.fit(X_train, y_train)\n",
        "\n",
        "accuracy = model_random.score(X_test, y_test)\n",
        "print (\"Accuracy is {}\".format(accuracy))"
      ],
      "metadata": {
        "colab": {
          "base_uri": "https://localhost:8080/"
        },
        "id": "Asxax3dJIiyK",
        "outputId": "af976a84-cd55-4b81-a970-7bf2c0c245b3"
      },
      "execution_count": 43,
      "outputs": [
        {
          "output_type": "stream",
          "name": "stdout",
          "text": [
            "Accuracy is 0.63625\n"
          ]
        }
      ]
    },
    {
      "cell_type": "code",
      "source": [
        "# import the metrics class (From DataCamp)\n",
        "from sklearn import metrics\n",
        "\n",
        "y_pred = clf.predict(X_test)\n",
        "conf_matrix = metrics.confusion_matrix(y_test, y_pred)\n",
        "conf_matrix"
      ],
      "metadata": {
        "colab": {
          "base_uri": "https://localhost:8080/"
        },
        "id": "n1uGHpQ52YT7",
        "outputId": "6fd7972c-2439-4eec-f86b-0925aed2af68"
      },
      "execution_count": 44,
      "outputs": [
        {
          "output_type": "execute_result",
          "data": {
            "text/plain": [
              "array([[4174, 1819],\n",
              "       [2546, 3461]])"
            ]
          },
          "metadata": {},
          "execution_count": 44
        }
      ]
    },
    {
      "cell_type": "code",
      "source": [
        "from sklearn.metrics import classification_report\n",
        "\n",
        "y_pred = model.predict(X_test)\n",
        "print(classification_report(y_test,y_pred))\n"
      ],
      "metadata": {
        "colab": {
          "base_uri": "https://localhost:8080/"
        },
        "id": "8r0cjpEuzUoT",
        "outputId": "3c6438ba-0379-4880-a7a5-bf1d1fd68df9"
      },
      "execution_count": 45,
      "outputs": [
        {
          "output_type": "stream",
          "name": "stdout",
          "text": [
            "              precision    recall  f1-score   support\n",
            "\n",
            "           0       0.00      0.00      0.00      5993\n",
            "           1       0.50      1.00      0.67      6007\n",
            "\n",
            "    accuracy                           0.50     12000\n",
            "   macro avg       0.25      0.50      0.33     12000\n",
            "weighted avg       0.25      0.50      0.33     12000\n",
            "\n"
          ]
        },
        {
          "output_type": "stream",
          "name": "stderr",
          "text": [
            "/usr/local/lib/python3.9/dist-packages/sklearn/metrics/_classification.py:1344: UndefinedMetricWarning: Precision and F-score are ill-defined and being set to 0.0 in labels with no predicted samples. Use `zero_division` parameter to control this behavior.\n",
            "  _warn_prf(average, modifier, msg_start, len(result))\n",
            "/usr/local/lib/python3.9/dist-packages/sklearn/metrics/_classification.py:1344: UndefinedMetricWarning: Precision and F-score are ill-defined and being set to 0.0 in labels with no predicted samples. Use `zero_division` parameter to control this behavior.\n",
            "  _warn_prf(average, modifier, msg_start, len(result))\n",
            "/usr/local/lib/python3.9/dist-packages/sklearn/metrics/_classification.py:1344: UndefinedMetricWarning: Precision and F-score are ill-defined and being set to 0.0 in labels with no predicted samples. Use `zero_division` parameter to control this behavior.\n",
            "  _warn_prf(average, modifier, msg_start, len(result))\n"
          ]
        }
      ]
    },
    {
      "cell_type": "markdown",
      "source": [
        "Option 2 is to run all these models at once in order to make them easy to compare. Output is a matrix of accuracy mean and standard deviation for each type of classification. Reference [Link](https://www.kaggle.com/code/djonafegnem/98-accuracy-logistic-regression)"
      ],
      "metadata": {
        "id": "21Slj6Pb7kVA"
      }
    },
    {
      "cell_type": "code",
      "source": [
        "models = []\n",
        "models.append(('LR', LogisticRegression()))\n",
        "models.append(('KNN', KNeighborsClassifier()))\n",
        "models.append(('CART', DecisionTreeClassifier()))\n",
        "models.append(('NB', GaussianNB()))\n"
      ],
      "metadata": {
        "id": "Jyer7a2g4Q1Q"
      },
      "execution_count": 47,
      "outputs": []
    },
    {
      "cell_type": "code",
      "source": [
        "num_folds = 10\n",
        "results = []\n",
        "names = []\n",
        "print('Mean and Standard Deviation accuracy with 10 folds')\n",
        "for name, model in models:\n",
        "    kfold = KFold(n_splits=100)\n",
        "    cv_results = cross_val_score(model, X_train, y_train, cv=kfold, scoring='accuracy')\n",
        "    results.append(cv_results)\n",
        "    names.append(name)\n",
        "    print('{}: {} ({})'.format(name, cv_results.mean(), cv_results.std()))"
      ],
      "metadata": {
        "colab": {
          "base_uri": "https://localhost:8080/"
        },
        "id": "GCigXerj4RFd",
        "outputId": "93425e52-12a1-4811-8ae7-a7db484f6865"
      },
      "execution_count": 49,
      "outputs": [
        {
          "output_type": "stream",
          "name": "stdout",
          "text": [
            "Mean and Standard Deviation accuracy with 10 folds\n",
            "LR: 0.4997499999999999 (0.0321993749147085)\n",
            "KNN: 0.5802857142857143 (0.026951770984179745)\n",
            "CART: 0.6017857142857143 (0.033656806328659555)\n",
            "NB: 0.5480357142857144 (0.03032298498445275)\n"
          ]
        }
      ]
    }
  ]
}